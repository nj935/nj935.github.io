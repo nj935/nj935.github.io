{
 "cells": [
  {
   "cell_type": "code",
   "execution_count": 87,
   "metadata": {},
   "outputs": [
    {
     "name": "stdout",
     "output_type": "stream",
     "text": [
      "Populating the interactive namespace from numpy and matplotlib\n"
     ]
    },
    {
     "name": "stderr",
     "output_type": "stream",
     "text": [
      "/Users/nicholasjones/anaconda3/envs/GPD/lib/python3.7/site-packages/IPython/core/magics/pylab.py:160: UserWarning: pylab import has clobbered these variables: ['datetime', 'axes', 'plt']\n",
      "`%matplotlib` prevents importing * from pylab and numpy\n",
      "  \"\\n`%matplotlib` prevents importing * from pylab and numpy\"\n"
     ]
    }
   ],
   "source": [
    "import numpy as np\n",
    "import pandas as pd\n",
    "import pylab as plt\n",
    "from datetime import datetime\n",
    "from dateutil.parser import parse\n",
    "from sklearn.tree import DecisionTreeClassifier, DecisionTreeRegressor, export_graphviz\n",
    "from sklearn.ensemble import RandomForestClassifier\n",
    "from sklearn.metrics import confusion_matrix\n",
    "\n",
    "%pylab inline"
   ]
  },
  {
   "cell_type": "markdown",
   "metadata": {},
   "source": [
    "# Machine Learning with Decision Trees\n",
    "June 18, 2019\n",
    "\n",
    "This notebook gives the source code for the decision tree exercise at Tech & AI To Improve Human Capital. Participants filled out a survey (72 responses) based on this fictional scenario:\n",
    "\n",
    "**A new cohort of 100 staff have just been hired, and will start this summer. We need to decide how many bike racks or parking spaces to build for them. To do so, we'll use data on current staff to build a machine learning model. For fun, we'll also predict whether staff prefer classical music or heavy metal.**\n",
    "\n",
    "The notebook is in Python and makes use of SciKitLearn, a widely used library for machine learning."
   ]
  },
  {
   "cell_type": "markdown",
   "metadata": {},
   "source": [
    "### 1. Load and prepare the data"
   ]
  },
  {
   "cell_type": "code",
   "execution_count": 88,
   "metadata": {
    "scrolled": true
   },
   "outputs": [
    {
     "data": {
      "text/html": [
       "<div>\n",
       "<style scoped>\n",
       "    .dataframe tbody tr th:only-of-type {\n",
       "        vertical-align: middle;\n",
       "    }\n",
       "\n",
       "    .dataframe tbody tr th {\n",
       "        vertical-align: top;\n",
       "    }\n",
       "\n",
       "    .dataframe thead th {\n",
       "        text-align: right;\n",
       "    }\n",
       "</style>\n",
       "<table border=\"1\" class=\"dataframe\">\n",
       "  <thead>\n",
       "    <tr style=\"text-align: right;\">\n",
       "      <th></th>\n",
       "      <th>state</th>\n",
       "      <th>age</th>\n",
       "      <th>gender</th>\n",
       "      <th>exercise_regime</th>\n",
       "      <th>purchase_history</th>\n",
       "      <th>mode_of_travel</th>\n",
       "      <th>music_choice</th>\n",
       "    </tr>\n",
       "  </thead>\n",
       "  <tbody>\n",
       "    <tr>\n",
       "      <th>0</th>\n",
       "      <td>DC</td>\n",
       "      <td>25-31</td>\n",
       "      <td>Female</td>\n",
       "      <td>Keep fit through jogging or gym.</td>\n",
       "      <td>Gardening supplies, Theater tickets</td>\n",
       "      <td>Walk or bike</td>\n",
       "      <td>Classical music</td>\n",
       "    </tr>\n",
       "    <tr>\n",
       "      <th>1</th>\n",
       "      <td>Virginia</td>\n",
       "      <td>56-61</td>\n",
       "      <td>Male</td>\n",
       "      <td>Keep fit through jogging or gym.</td>\n",
       "      <td>Gardening supplies, Dog food / cat food</td>\n",
       "      <td>Train</td>\n",
       "      <td>Classical music</td>\n",
       "    </tr>\n",
       "    <tr>\n",
       "      <th>2</th>\n",
       "      <td>Maryland</td>\n",
       "      <td>32-38</td>\n",
       "      <td>Female</td>\n",
       "      <td>Keep fit through jogging or gym.</td>\n",
       "      <td>Gardening supplies, Bluetooth speaker, Dog foo...</td>\n",
       "      <td>Train</td>\n",
       "      <td>Classical music</td>\n",
       "    </tr>\n",
       "    <tr>\n",
       "      <th>3</th>\n",
       "      <td>Virginia</td>\n",
       "      <td>39-45</td>\n",
       "      <td>Female</td>\n",
       "      <td>Keep fit through jogging or gym.</td>\n",
       "      <td>Gardening supplies, Bluetooth speaker, Dog foo...</td>\n",
       "      <td>Car</td>\n",
       "      <td>Heavy metal / rock</td>\n",
       "    </tr>\n",
       "    <tr>\n",
       "      <th>4</th>\n",
       "      <td>Maryland</td>\n",
       "      <td>32-38</td>\n",
       "      <td>Female</td>\n",
       "      <td>Netflix is my most strenuous exercise.</td>\n",
       "      <td>Gardening supplies, Bluetooth speaker, Theater...</td>\n",
       "      <td>Train</td>\n",
       "      <td>Heavy metal / rock</td>\n",
       "    </tr>\n",
       "  </tbody>\n",
       "</table>\n",
       "</div>"
      ],
      "text/plain": [
       "      state    age  gender                         exercise_regime  \\\n",
       "0        DC  25-31  Female        Keep fit through jogging or gym.   \n",
       "1  Virginia  56-61    Male        Keep fit through jogging or gym.   \n",
       "2  Maryland  32-38  Female        Keep fit through jogging or gym.   \n",
       "3  Virginia  39-45  Female        Keep fit through jogging or gym.   \n",
       "4  Maryland  32-38  Female  Netflix is my most strenuous exercise.   \n",
       "\n",
       "                                    purchase_history mode_of_travel  \\\n",
       "0                Gardening supplies, Theater tickets   Walk or bike   \n",
       "1            Gardening supplies, Dog food / cat food          Train   \n",
       "2  Gardening supplies, Bluetooth speaker, Dog foo...          Train   \n",
       "3  Gardening supplies, Bluetooth speaker, Dog foo...            Car   \n",
       "4  Gardening supplies, Bluetooth speaker, Theater...          Train   \n",
       "\n",
       "         music_choice  \n",
       "0     Classical music  \n",
       "1     Classical music  \n",
       "2     Classical music  \n",
       "3  Heavy metal / rock  \n",
       "4  Heavy metal / rock  "
      ]
     },
     "execution_count": 88,
     "metadata": {},
     "output_type": "execute_result"
    }
   ],
   "source": [
    "# The data was collected on Google Forms and downloaded as a CSV file.\n",
    "# We'll load it as a dataframe ('df'), clean up the column names, and take a look.\n",
    "\n",
    "df = pd.read_csv('HD_ML_survey.csv')\n",
    "df.columns = ['state','age','gender','exercise_regime','purchase_history','mode_of_travel','music_choice']\n",
    "\n",
    "df.head()"
   ]
  },
  {
   "cell_type": "code",
   "execution_count": 89,
   "metadata": {},
   "outputs": [],
   "source": [
    "#df = df[df.apply(lambda row: not row.astype(str).str.contains('Prefer').any(), axis=1)]"
   ]
  },
  {
   "cell_type": "markdown",
   "metadata": {},
   "source": [
    "### 2. Inspect the data\n",
    "* Before building a model, visualize the data to understand what's in it."
   ]
  },
  {
   "cell_type": "code",
   "execution_count": 90,
   "metadata": {},
   "outputs": [
    {
     "data": {
      "text/plain": [
       "<matplotlib.axes._subplots.AxesSubplot at 0x1a248a0ac8>"
      ]
     },
     "execution_count": 90,
     "metadata": {},
     "output_type": "execute_result"
    },
    {
     "data": {
      "image/png": "[encoded data removed]",
      "text/plain": [
       "<Figure size 432x288 with 1 Axes>"
      ]
     },
     "metadata": {
      "needs_background": "light"
     },
     "output_type": "display_data"
    }
   ],
   "source": [
    "# Our respondents are from a broad set of ages\n",
    "\n",
    "pd.Series(df.age.value_counts(sort=False),index=['25-31','32-38','39-45','46-52','52-56','56-61']).plot(kind='bar',title='Number of respondents by age')"
   ]
  },
  {
   "cell_type": "code",
   "execution_count": 91,
   "metadata": {},
   "outputs": [
    {
     "data": {
      "image/png": "[encoded data removed]",
      "text/plain": [
       "<Figure size 648x288 with 2 Axes>"
      ]
     },
     "metadata": {},
     "output_type": "display_data"
    }
   ],
   "source": [
    "# There are slightly more women than men, and the majority live in DC.\n",
    "\n",
    "fig,axes = plt.subplots(nrows=1,ncols=2,figsize=[9,4])\n",
    "pies = ['gender','state']\n",
    "\n",
    "for n,i in enumerate(pies):\n",
    "    ax = axes.flatten()[n]\n",
    "    df[i].value_counts().plot(kind='pie',autopct='%1.0f%%',ax=ax)\n",
    "    ax.set(ylabel='',title=i)\n",
    "\n",
    "fig.suptitle(\"Demographic questions\");"
   ]
  },
  {
   "cell_type": "code",
   "execution_count": 92,
   "metadata": {},
   "outputs": [
    {
     "data": {
      "image/png": "[encoded data removed]",
      "text/plain": [
       "<Figure size 432x288 with 1 Axes>"
      ]
     },
     "metadata": {},
     "output_type": "display_data"
    }
   ],
   "source": [
    "df.exercise_regime.value_counts().plot(kind = 'pie', autopct='%1.0f%%',title='Exercise regime')\n",
    "plt.ylabel('');"
   ]
  },
  {
   "cell_type": "markdown",
   "metadata": {},
   "source": [
    "#### --> We'll use supervised learning methods, so having a target variable is crucial. We have two target variables. We'll build one model to predict mode of transport, and a second model to predict music choice. The classes are fairly evenly balanced."
   ]
  },
  {
   "cell_type": "code",
   "execution_count": 93,
   "metadata": {
    "scrolled": true
   },
   "outputs": [
    {
     "data": {
      "image/png": "[encoded data removed]",
      "text/plain": [
       "<Figure size 432x288 with 2 Axes>"
      ]
     },
     "metadata": {
      "needs_background": "light"
     },
     "output_type": "display_data"
    }
   ],
   "source": [
    "fig,axes = plt.subplots(1,2,sharey=True)\n",
    "df.mode_of_travel.value_counts().plot(kind='bar',ax=axes[1],title='Mode of transport',color='orange')\n",
    "df.music_choice.value_counts().plot(kind='bar',ax=axes[0],title='Music choice');"
   ]
  },
  {
   "cell_type": "markdown",
   "metadata": {},
   "source": [
    "### 3. Create a machine-readable set of features\n",
    "We need to transform the data a bit before our algorithm can work with it:\n",
    "* For categorical features (eg. State = DC, Maryland or Virginia), transform them into dummy variables.\n",
    "* This will give us a new column for each possible value, encoded as 0 or 1. (So if you live in DC, you'll be marked '1' in the DC column and '0' in the Virginia and Maryland columns."
   ]
  },
  {
   "cell_type": "code",
   "execution_count": 94,
   "metadata": {},
   "outputs": [],
   "source": [
    "# Transform the purchases data from string (eg. 'yoga mat, theater tickets') to a list.  \n",
    "\n",
    "df.purchase_history = df.purchase_history.astype(str)\n",
    "df.purchase_history = [cell.split(',') for cell in df.purchase_history]  "
   ]
  },
  {
   "cell_type": "code",
   "execution_count": 95,
   "metadata": {},
   "outputs": [],
   "source": [
    "# Create dummies for purchase history\n",
    "\n",
    "items = ['Theater tickets','Yoga mat','Bluetooth speaker / headphones',\n",
    "             'Gardening or home improvement gear',' Presents for my kids']\n",
    "\n",
    "for item in items:\n",
    "    df[item] = [item in cell for cell in df.purchase_history]\n",
    "    df[item] = df[item].map({False:0,True:1})"
   ]
  },
  {
   "cell_type": "code",
   "execution_count": 96,
   "metadata": {},
   "outputs": [],
   "source": [
    "# Transform gender, household_type, state, food and exercise to dummies\n",
    "\n",
    "for feature in ['gender','state','exercise_regime']:\n",
    "    dummy_feature = pd.get_dummies(df[feature])\n",
    "    df = pd.concat([df,dummy_feature], axis=1)"
   ]
  },
  {
   "cell_type": "code",
   "execution_count": 97,
   "metadata": {},
   "outputs": [],
   "source": [
    "# Take the mid-point of the age range\n",
    "df['age_continuous'] = df.age.map({'25-31':28,'32-38':35,'39-45':42,'46-52':49,'52-56':54,'56-61':58,'Prefer not to say':45})"
   ]
  },
  {
   "cell_type": "code",
   "execution_count": 98,
   "metadata": {},
   "outputs": [],
   "source": [
    "# Map the TRANSPORT and MUSIC_CHOICE columns (our target variables) to 0s/1s\n",
    "\n",
    "y_transport = df.mode_of_travel.map({'Train':0,'Car':0,'Walk or bike':1})\n",
    "y_music = df.music_choice.map({'Classical music':0,'Heavy metal / rock':1})\n",
    "\n",
    "# Note, we're using the following binary values:\n",
    "\n",
    "# TRANSPORT -- Train or car: 0, Walk or bike, 1\n",
    "# MUSIC -- Classical: 0, Heavy metal / rock: 1"
   ]
  },
  {
   "cell_type": "code",
   "execution_count": 99,
   "metadata": {},
   "outputs": [],
   "source": [
    "features = ['state', 'age_continuous', 'gender', 'Theater tickets', 'Yoga mat',\n",
    "       'Bluetooth speaker / headphones', 'Gardening or home improvement gear',\n",
    "       ' Presents for my kids', 'Female', 'Male',\n",
    "       'Female', 'Male', 'DC', 'Maryland', 'Virginia',\n",
    "       'I play team sports / run races.', 'Keep fit through jogging or gym.',\n",
    "       'Netflix is my most strenuous exercise.']"
   ]
  },
  {
   "cell_type": "markdown",
   "metadata": {},
   "source": [
    "### 4. Build decision tree models"
   ]
  },
  {
   "cell_type": "markdown",
   "metadata": {},
   "source": [
    "##### 4.1 TRANSPORT"
   ]
  },
  {
   "cell_type": "code",
   "execution_count": 100,
   "metadata": {},
   "outputs": [],
   "source": [
    "# In machine learning, the set of predictive features is typically denoted X. The target variable is denoted y.\n",
    "# This reflects mathematical notation where y = f(X)   [outcome y is a function of input features x1 ... xN]\n",
    "\n",
    "# Here are the feature we'll use:\n",
    "\n",
    "X = ['age_continuous', 'Female', 'Male', 'DC', 'Maryland', 'Virginia', 'Theater tickets', 'Yoga mat',\n",
    "       'Bluetooth speaker / headphones', 'Gardening or home improvement gear',\n",
    "       ' Presents for my kids','I play team sports / run races.', 'Keep fit through jogging or gym.',\n",
    "       'Netflix is my most strenuous exercise.']"
   ]
  },
  {
   "cell_type": "code",
   "execution_count": 101,
   "metadata": {},
   "outputs": [
    {
     "data": {
      "text/html": [
       "<div>\n",
       "<style scoped>\n",
       "    .dataframe tbody tr th:only-of-type {\n",
       "        vertical-align: middle;\n",
       "    }\n",
       "\n",
       "    .dataframe tbody tr th {\n",
       "        vertical-align: top;\n",
       "    }\n",
       "\n",
       "    .dataframe thead th {\n",
       "        text-align: right;\n",
       "    }\n",
       "</style>\n",
       "<table border=\"1\" class=\"dataframe\">\n",
       "  <thead>\n",
       "    <tr style=\"text-align: right;\">\n",
       "      <th></th>\n",
       "      <th>age_continuous</th>\n",
       "      <th>Female</th>\n",
       "      <th>Male</th>\n",
       "      <th>DC</th>\n",
       "      <th>Maryland</th>\n",
       "      <th>Virginia</th>\n",
       "      <th>Theater tickets</th>\n",
       "      <th>Yoga mat</th>\n",
       "      <th>Bluetooth speaker / headphones</th>\n",
       "      <th>Gardening or home improvement gear</th>\n",
       "      <th>Presents for my kids</th>\n",
       "      <th>I play team sports / run races.</th>\n",
       "      <th>Keep fit through jogging or gym.</th>\n",
       "      <th>Netflix is my most strenuous exercise.</th>\n",
       "    </tr>\n",
       "  </thead>\n",
       "  <tbody>\n",
       "    <tr>\n",
       "      <th>0</th>\n",
       "      <td>28</td>\n",
       "      <td>1</td>\n",
       "      <td>0</td>\n",
       "      <td>1</td>\n",
       "      <td>0</td>\n",
       "      <td>0</td>\n",
       "      <td>0</td>\n",
       "      <td>0</td>\n",
       "      <td>0</td>\n",
       "      <td>0</td>\n",
       "      <td>0</td>\n",
       "      <td>0</td>\n",
       "      <td>1</td>\n",
       "      <td>0</td>\n",
       "    </tr>\n",
       "    <tr>\n",
       "      <th>1</th>\n",
       "      <td>58</td>\n",
       "      <td>0</td>\n",
       "      <td>1</td>\n",
       "      <td>0</td>\n",
       "      <td>0</td>\n",
       "      <td>1</td>\n",
       "      <td>0</td>\n",
       "      <td>0</td>\n",
       "      <td>0</td>\n",
       "      <td>0</td>\n",
       "      <td>0</td>\n",
       "      <td>0</td>\n",
       "      <td>1</td>\n",
       "      <td>0</td>\n",
       "    </tr>\n",
       "  </tbody>\n",
       "</table>\n",
       "</div>"
      ],
      "text/plain": [
       "   age_continuous  Female  Male  DC  Maryland  Virginia  Theater tickets  \\\n",
       "0              28       1     0   1         0         0                0   \n",
       "1              58       0     1   0         0         1                0   \n",
       "\n",
       "   Yoga mat  Bluetooth speaker / headphones  \\\n",
       "0         0                               0   \n",
       "1         0                               0   \n",
       "\n",
       "   Gardening or home improvement gear   Presents for my kids  \\\n",
       "0                                   0                      0   \n",
       "1                                   0                      0   \n",
       "\n",
       "   I play team sports / run races.  Keep fit through jogging or gym.  \\\n",
       "0                                0                                 1   \n",
       "1                                0                                 1   \n",
       "\n",
       "   Netflix is my most strenuous exercise.  \n",
       "0                                       0  \n",
       "1                                       0  "
      ]
     },
     "execution_count": 101,
     "metadata": {},
     "output_type": "execute_result"
    }
   ],
   "source": [
    "df[X].head(2)"
   ]
  },
  {
   "cell_type": "code",
   "execution_count": 124,
   "metadata": {},
   "outputs": [],
   "source": [
    "# Split the data into training and test sets. We take 70% of data to train the model, 30% to evaluate it.\n",
    "\n",
    "from sklearn.model_selection import train_test_split\n",
    "\n",
    "X_train_transport, X_test_transport, y_train_transport, y_test_transport = train_test_split(df[X],y_transport,test_size=0.31)"
   ]
  },
  {
   "cell_type": "code",
   "execution_count": 125,
   "metadata": {},
   "outputs": [
    {
     "name": "stdout",
     "output_type": "stream",
     "text": [
      "rows and columns in X_train: (47, 14)\n",
      "rows and columns in y_train: (47,)\n",
      "rows and columns in X_test: (22, 14)\n",
      "rows and columns in y_test: (22,)\n"
     ]
    }
   ],
   "source": [
    "# X_train is the features for our training set, y_train is the corresponding labels (eg. 'classical fan','heavy metal lover')\n",
    "\n",
    "print(\"rows and columns in X_train: {}\".format(X_train_transport.shape))\n",
    "print(\"rows and columns in y_train: {}\".format(y_train_transport.shape))\n",
    "print(\"rows and columns in X_test: {}\".format(X_test_transport.shape))\n",
    "print(\"rows and columns in y_test: {}\".format(y_test_transport.shape))"
   ]
  },
  {
   "cell_type": "code",
   "execution_count": 126,
   "metadata": {},
   "outputs": [
    {
     "data": {
      "text/plain": [
       "DecisionTreeClassifier(class_weight=None, criterion='gini', max_depth=3,\n",
       "                       max_features=None, max_leaf_nodes=None,\n",
       "                       min_impurity_decrease=0.0, min_impurity_split=None,\n",
       "                       min_samples_leaf=1, min_samples_split=2,\n",
       "                       min_weight_fraction_leaf=0.0, presort=False,\n",
       "                       random_state=None, splitter='best')"
      ]
     },
     "execution_count": 126,
     "metadata": {},
     "output_type": "execute_result"
    }
   ],
   "source": [
    "# First set up the model that we'll use:\n",
    "\n",
    "tree_transport = DecisionTreeClassifier(max_depth=3)\n",
    "\n",
    "# Then pass it the training data:\n",
    "\n",
    "tree_transport.fit(X_train_transport,y_train_transport)"
   ]
  },
  {
   "cell_type": "code",
   "execution_count": 127,
   "metadata": {},
   "outputs": [],
   "source": [
    "# Visualize the model\n",
    "\n",
    "export_graphviz(tree_transport, out_file='tree.dot', \n",
    "                feature_names = X,\n",
    "                class_names = ['Train/car','walk/bike'],\n",
    "                rounded = True, proportion = False, \n",
    "                precision = 2, filled = True)\n",
    "\n",
    "#from IPython.display import Image\n",
    "#Image('tree1.png')"
   ]
  },
  {
   "cell_type": "markdown",
   "metadata": {},
   "source": [
    "##### 4.2 MUSIC CHOICE"
   ]
  },
  {
   "cell_type": "code",
   "execution_count": 173,
   "metadata": {},
   "outputs": [],
   "source": [
    "X_train_music, X_test_music, y_train_music, y_test_music = train_test_split(df[X],y_music,test_size=0.3)"
   ]
  },
  {
   "cell_type": "code",
   "execution_count": 174,
   "metadata": {
    "scrolled": true
   },
   "outputs": [
    {
     "data": {
      "text/plain": [
       "DecisionTreeClassifier(class_weight=None, criterion='gini', max_depth=4,\n",
       "                       max_features=None, max_leaf_nodes=None,\n",
       "                       min_impurity_decrease=0.0, min_impurity_split=None,\n",
       "                       min_samples_leaf=2, min_samples_split=2,\n",
       "                       min_weight_fraction_leaf=0.0, presort=False,\n",
       "                       random_state=None, splitter='best')"
      ]
     },
     "execution_count": 174,
     "metadata": {},
     "output_type": "execute_result"
    }
   ],
   "source": [
    "tree_music = DecisionTreeClassifier(max_depth=4, min_samples_leaf=2)\n",
    "tree_music.fit(X_train_music,y_train_music)"
   ]
  },
  {
   "cell_type": "code",
   "execution_count": 175,
   "metadata": {},
   "outputs": [],
   "source": [
    "export_graphviz(tree_music, out_file='tree2.dot', \n",
    "                feature_names = X,\n",
    "                class_names = ['Classical','Metal'],\n",
    "                rounded = True, proportion = False, \n",
    "                precision = 2, filled = True)"
   ]
  },
  {
   "cell_type": "code",
   "execution_count": 177,
   "metadata": {},
   "outputs": [],
   "source": [
    "#Image('tree2.png')"
   ]
  },
  {
   "cell_type": "markdown",
   "metadata": {},
   "source": [
    "### 4. Predict against test set, evaluate performance"
   ]
  },
  {
   "cell_type": "code",
   "execution_count": 178,
   "metadata": {},
   "outputs": [
    {
     "name": "stdout",
     "output_type": "stream",
     "text": [
      "TRANSPORT: First 10 predictions: [0, 1, 0, 0, 0, 0, 0, 0, 0, 1]\n"
     ]
    }
   ],
   "source": [
    "# We built a decision tree classifier with the training data. Now let's run the test data through it.\n",
    "# We'll output the predictions it made and look at them:\n",
    "\n",
    "predictions_transport = tree_transport.predict(X_test_transport)\n",
    "\n",
    "print(\"TRANSPORT: First 10 predictions: {}\".format(predictions_transport[:10].tolist()))"
   ]
  },
  {
   "cell_type": "code",
   "execution_count": 179,
   "metadata": {},
   "outputs": [],
   "source": [
    "n_samples = len(predictions_transport)"
   ]
  },
  {
   "cell_type": "code",
   "execution_count": 180,
   "metadata": {
    "scrolled": true
   },
   "outputs": [
    {
     "name": "stdout",
     "output_type": "stream",
     "text": [
      "TRANSPORT - We predicted 17 right out of 22 examples. That's a 77.3 % accuracy rate.\n"
     ]
    }
   ],
   "source": [
    "# Is the model any good? Let's check how many of the predicted value equal the actual values.\n",
    "\n",
    "n_correct = sum(predictions_transport == y_test_transport)\n",
    "accuracy = n_correct / n_samples * 100\n",
    "\n",
    "print(\"TRANSPORT - We predicted {} right out of {} examples. That's a {:.1f} % accuracy rate.\".format(\n",
    "    n_correct,n_samples,accuracy))"
   ]
  },
  {
   "cell_type": "code",
   "execution_count": 181,
   "metadata": {
    "scrolled": true
   },
   "outputs": [
    {
     "name": "stdout",
     "output_type": "stream",
     "text": [
      "MUSIC - We predicted 13 right out of 22 examples. That's a 59.1 % accuracy rate.\n"
     ]
    }
   ],
   "source": [
    "# Check accuracy for music\n",
    "\n",
    "predictions_music = tree_music.predict(X_test_music)\n",
    "\n",
    "print(\"MUSIC - We predicted {} right out of {} examples. That's a {:.1f} % accuracy rate.\".format(\n",
    "    sum(predictions_music == y_test_music),n_samples,sum(predictions_music == y_test_music)/n_samples*100))"
   ]
  },
  {
   "cell_type": "markdown",
   "metadata": {},
   "source": [
    "--> Note that the transport model addresses an easy task, whereas predicting musical taste seems difficult. What could boost the prediction accuracy? Two approaches: get more data to train your models on, or improve the model."
   ]
  },
  {
   "cell_type": "markdown",
   "metadata": {},
   "source": [
    "### 5. Will a more complex model give us better accuracy?\n",
    "* Random Forest is an algorithm that builds a decisions of decision trees, each with a slightly different subset of the training data, then makes predictions by averaging the results of each tree. \n",
    "* Building a large 'forest' can boost prediction accuracy. But a complex model risks overfitting the data, and benefits of adding more trees peaks after a while."
   ]
  },
  {
   "cell_type": "code",
   "execution_count": 244,
   "metadata": {},
   "outputs": [],
   "source": [
    "from sklearn.model_selection import cross_val_score       # This is a variant on train-test split."
   ]
  },
  {
   "cell_type": "code",
   "execution_count": 263,
   "metadata": {},
   "outputs": [],
   "source": [
    "n_estimators = np.arange(1,40,1)           # We'll build a Random Forest with 1 tree, 2 trees, 3 trees, etc, up to 50 trees.\n",
    "results = []                             # We'll test the prediction accuracy of each model, and store the results."
   ]
  },
  {
   "cell_type": "code",
   "execution_count": 264,
   "metadata": {},
   "outputs": [],
   "source": [
    "for i in n_estimators:\n",
    "    transport_rf = RandomForestClassifier(n_estimators=i,random_state=10)\n",
    "    scores = cross_val_score(transport_rf,df[X],y_transport,cv=5)\n",
    "    results.append(scores.mean())"
   ]
  },
  {
   "cell_type": "code",
   "execution_count": 315,
   "metadata": {},
   "outputs": [
    {
     "data": {
      "image/png": "[encoded data removed]",
      "text/plain": [
       "<Figure size 576x432 with 1 Axes>"
      ]
     },
     "metadata": {},
     "output_type": "display_data"
    }
   ],
   "source": [
    "sns.set(font_scale=1.6)\n",
    "f, ax = plt.subplots(figsize=[8,6])\n",
    "sns.lineplot(n_estimators,results,color='orange',ax=ax,linewidth=5)\n",
    "fig = plt.gca()\n",
    "fig.set(title=\"Mode of transport classifier: Random forest\",ylabel='% predictions correct', xlabel='number of trees');"
   ]
  },
  {
   "cell_type": "markdown",
   "metadata": {},
   "source": [
    "--> performance rises with number of trees, then levels off. It may be worth using a RF with say 10-15 trees. Note that on large and complex datasets, it can be worth using a large number of trees (100s or even 1000s)."
   ]
  },
  {
   "cell_type": "markdown",
   "metadata": {},
   "source": [
    "### 6. Demo of parameter tuning\n",
    "ML models have parameters, eg. for a decision-tree you can specify the maximum depth and the minimum number of samples to include in any split. We'll tune the model by trying different parameters to find the combination that works best."
   ]
  },
  {
   "cell_type": "code",
   "execution_count": 192,
   "metadata": {},
   "outputs": [],
   "source": [
    "from sklearn.model_selection import GridSearchCV"
   ]
  },
  {
   "cell_type": "code",
   "execution_count": 193,
   "metadata": {},
   "outputs": [],
   "source": [
    "# First let's specify the set of parameters to look at, and the values to search among.\n",
    "# ---> we'll try any number of trees between 2 and 40, and several options for max depth and minimum samples per leaf.\n",
    "\n",
    "param_grid = {'n_estimators':np.arange(2,40),'max_depth':[3,4,5,6],'min_samples_leaf':[2,3,4,5]}"
   ]
  },
  {
   "cell_type": "code",
   "execution_count": 194,
   "metadata": {},
   "outputs": [
    {
     "name": "stderr",
     "output_type": "stream",
     "text": [
      "/Users/nicholasjones/anaconda3/envs/GPD/lib/python3.7/site-packages/sklearn/model_selection/_search.py:813: DeprecationWarning: The default of the `iid` parameter will change from True to False in version 0.22 and will be removed in 0.24. This will change numeric results when test-set sizes are unequal.\n",
      "  DeprecationWarning)\n"
     ]
    },
    {
     "data": {
      "text/plain": [
       "GridSearchCV(cv=5, error_score='raise-deprecating',\n",
       "             estimator=RandomForestClassifier(bootstrap=True, class_weight=None,\n",
       "                                              criterion='gini', max_depth=None,\n",
       "                                              max_features='auto',\n",
       "                                              max_leaf_nodes=None,\n",
       "                                              min_impurity_decrease=0.0,\n",
       "                                              min_impurity_split=None,\n",
       "                                              min_samples_leaf=1,\n",
       "                                              min_samples_split=2,\n",
       "                                              min_weight_fraction_leaf=0.0,\n",
       "                                              n_estimators='warn', n_jobs=None,\n",
       "                                              oob_score=False,\n",
       "                                              random_state=None, verbose=0,\n",
       "                                              warm_start=False),\n",
       "             iid='warn', n_jobs=None,\n",
       "             param_grid={'max_depth': [3, 4, 5, 6],\n",
       "                         'min_samples_leaf': [2, 3, 4, 5],\n",
       "                         'n_estimators': array([ 2,  3,  4,  5,  6,  7,  8,  9, 10, 11, 12, 13, 14, 15, 16, 17, 18,\n",
       "       19, 20, 21, 22, 23, 24, 25, 26, 27, 28, 29, 30, 31, 32, 33, 34, 35,\n",
       "       36, 37, 38, 39])},\n",
       "             pre_dispatch='2*n_jobs', refit=True, return_train_score=False,\n",
       "             scoring=None, verbose=0)"
      ]
     },
     "execution_count": 194,
     "metadata": {},
     "output_type": "execute_result"
    }
   ],
   "source": [
    "# We'll build a new model for each combination of the parameters (this is a Grid Search), and store the results.\n",
    "\n",
    "grid_search = GridSearchCV(RandomForestClassifier(),param_grid,cv=5)\n",
    "grid_search.fit(X_train_transport,y_train_transport)"
   ]
  },
  {
   "cell_type": "code",
   "execution_count": 195,
   "metadata": {},
   "outputs": [
    {
     "name": "stdout",
     "output_type": "stream",
     "text": [
      "The best parameters were: {'max_depth': 3, 'min_samples_leaf': 2, 'n_estimators': 14}\n",
      "The best model classified 85.1 percent of examples correctly.\n"
     ]
    }
   ],
   "source": [
    "print(\"The best parameters were: {}\".format(grid_search.best_params_))\n",
    "print(\"The best model classified {} percent of examples correctly.\".format((grid_search.best_score_*100).round(1)))\n"
   ]
  },
  {
   "cell_type": "markdown",
   "metadata": {},
   "source": [
    "### 7. Demo of feature importance\n",
    "* Sometimes we want to know which features the model made use of. This helps inform us about what set of rules just got constructed. It's also informative in its own right: eg. in education policy, you might not need to predict student performance, but finding out which factors influence most strongly is of interest."
   ]
  },
  {
   "cell_type": "code",
   "execution_count": 196,
   "metadata": {},
   "outputs": [
    {
     "name": "stderr",
     "output_type": "stream",
     "text": [
      "/Users/nicholasjones/anaconda3/envs/GPD/lib/python3.7/site-packages/pandas/plotting/_core.py:185: UserWarning: 'colors' is being deprecated. Please use 'color'instead of 'colors'\n",
      "  warnings.warn((\"'colors' is being deprecated. Please use 'color'\"\n"
     ]
    },
    {
     "data": {
      "image/png": "[encoded data removed]",
      "text/plain": [
       "<Figure size 432x288 with 1 Axes>"
      ]
     },
     "metadata": {
      "needs_background": "light"
     },
     "output_type": "display_data"
    }
   ],
   "source": [
    "feat_importance = pd.Series(tree_music.feature_importances_,index=df[X].columns)\n",
    "feat_importance.nlargest(5).plot(kind='barh',title='Music model: Feature importances',colors='b')\n",
    "plt.gca().invert_yaxis();"
   ]
  },
  {
   "cell_type": "code",
   "execution_count": 197,
   "metadata": {},
   "outputs": [
    {
     "name": "stderr",
     "output_type": "stream",
     "text": [
      "/Users/nicholasjones/anaconda3/envs/GPD/lib/python3.7/site-packages/sklearn/ensemble/forest.py:245: FutureWarning: The default value of n_estimators will change from 10 in version 0.20 to 100 in 0.22.\n",
      "  \"10 in version 0.20 to 100 in 0.22.\", FutureWarning)\n"
     ]
    }
   ],
   "source": [
    "rf_transport = RandomForestClassifier()\n",
    "rf_transport.fit(X_train_transport,y_train_transport,);"
   ]
  },
  {
   "cell_type": "code",
   "execution_count": 198,
   "metadata": {},
   "outputs": [
    {
     "name": "stderr",
     "output_type": "stream",
     "text": [
      "/Users/nicholasjones/anaconda3/envs/GPD/lib/python3.7/site-packages/pandas/plotting/_core.py:185: UserWarning: 'colors' is being deprecated. Please use 'color'instead of 'colors'\n",
      "  warnings.warn((\"'colors' is being deprecated. Please use 'color'\"\n"
     ]
    },
    {
     "data": {
      "image/png": "[encoded data removed]",
      "text/plain": [
       "<Figure size 432x288 with 1 Axes>"
      ]
     },
     "metadata": {
      "needs_background": "light"
     },
     "output_type": "display_data"
    }
   ],
   "source": [
    "feat_importance = pd.Series(rf_transport.feature_importances_,index=df[X].columns)\n",
    "feat_importance.nlargest(7).plot(kind='barh',title='Transport model: Feature importances',colors='g')\n",
    "plt.gca().invert_yaxis();"
   ]
  },
  {
   "cell_type": "markdown",
   "metadata": {},
   "source": [
    "#### Thanks for participating! Contacts: Nick Jones (njones@worldbank.org), Mersedeh Tariverdi (mtariverdi@worldbank.org)"
   ]
  },
  {
   "cell_type": "code",
   "execution_count": null,
   "metadata": {},
   "outputs": [],
   "source": []
  }
 ],
 "metadata": {
  "kernelspec": {
   "display_name": "ML",
   "language": "python",
   "name": "ml"
  },
  "language_info": {
   "codemirror_mode": {
    "name": "ipython",
    "version": 3
   },
   "file_extension": ".py",
   "mimetype": "text/x-python",
   "name": "python",
   "nbconvert_exporter": "python",
   "pygments_lexer": "ipython3",
   "version": "3.7.3"
  }
 },
 "nbformat": 4,
 "nbformat_minor": 2
}
