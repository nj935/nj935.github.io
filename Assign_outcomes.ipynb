{
 "cells": [
  {
   "cell_type": "code",
   "execution_count": 2,
   "metadata": {},
   "outputs": [],
   "source": [
    "import numpy as np\n",
    "import pandas as pd\n",
    "import os\n",
    "import csv\n",
    "from datetime import datetime\n",
    "from dateutil.parser import parse\n",
    "import matplotlib as plt\n",
    "#import geopandas as gpd\n",
    "import urllib\n",
    "import zipfile\n",
    "#import requests\n",
    "#import nyc_geoclient\n",
    "\n",
    "%matplotlib inline"
   ]
  },
  {
   "cell_type": "markdown",
   "metadata": {},
   "source": [
    "## Assign outcome variables for inspections data\n",
    "\n",
    "#### Contents:\n",
    "\n",
    "1. Define categories for the outcome assignment\n",
    "2. Function to assign outcomes\n",
    "3. Inspect the dataframe to check the assignment is working right\n",
    "4. Drop duplicate values and export\n",
    "\n",
    "\n"
   ]
  },
  {
   "cell_type": "code",
   "execution_count": 3,
   "metadata": {},
   "outputs": [],
   "source": [
    "path = \"/projects/18_predicting_igc/shared/data/\"\n",
    "\n",
    "inspections = \"enforcement_plumbing_inspections_since_010110.csv\"\n",
    "referrals = \"gas_high_risk_1l_utility_referral_since_aug_2016.csv\"\n",
    "complaints = \"plumbing_complaints_received_citywide.csv\"\n",
    "violations = \"work_without_permit_violation_issued_by_plumbing_unit_since_010110.csv\"\n",
    "text_analysis = \"gas_utility_referral_data_text_analysis_since_may_2016.csv\"\n",
    "\n",
    "df = pd.read_csv(path + complaints, encoding='cp1250')  # Put any file where 'inspections' is to open it\n",
    "#df.head()\n",
    "\n",
    "# Use encoding='cp1250' for inspections and complaints only"
   ]
  },
  {
   "cell_type": "code",
   "execution_count": 4,
   "metadata": {},
   "outputs": [
    {
     "data": {
      "text/html": [
       "<div>\n",
       "<style>\n",
       "    .dataframe thead tr:only-child th {\n",
       "        text-align: right;\n",
       "    }\n",
       "\n",
       "    .dataframe thead th {\n",
       "        text-align: left;\n",
       "    }\n",
       "\n",
       "    .dataframe tbody tr th {\n",
       "        vertical-align: top;\n",
       "    }\n",
       "</style>\n",
       "<table border=\"1\" class=\"dataframe\">\n",
       "  <thead>\n",
       "    <tr style=\"text-align: right;\">\n",
       "      <th></th>\n",
       "      <th>priority_code</th>\n",
       "      <th>community_board</th>\n",
       "      <th>address</th>\n",
       "      <th>ZIP</th>\n",
       "      <th>borough</th>\n",
       "      <th>BIN</th>\n",
       "      <th>ID</th>\n",
       "      <th>complaint_category</th>\n",
       "      <th>complaint_category_description</th>\n",
       "      <th>complaint_source</th>\n",
       "      <th>...</th>\n",
       "      <th>date_received</th>\n",
       "      <th>d_date</th>\n",
       "      <th>referral_description</th>\n",
       "      <th>referral_agency_code</th>\n",
       "      <th>complaint_source_description</th>\n",
       "      <th>complaint_reason</th>\n",
       "      <th>disp_code</th>\n",
       "      <th>disp_description</th>\n",
       "      <th>inspector_comments</th>\n",
       "      <th>ECB_violation_number</th>\n",
       "    </tr>\n",
       "  </thead>\n",
       "  <tbody>\n",
       "    <tr>\n",
       "      <th>0</th>\n",
       "      <td>B</td>\n",
       "      <td>102</td>\n",
       "      <td>110          CHRISTOPHER STREET</td>\n",
       "      <td>10014.0</td>\n",
       "      <td>Manhattan</td>\n",
       "      <td>1010038</td>\n",
       "      <td>1272891</td>\n",
       "      <td>66</td>\n",
       "      <td>PLUMBING WORK - ILLEGAL/NO PERMIT(ALSO SPRINKL...</td>\n",
       "      <td>B</td>\n",
       "      <td>...</td>\n",
       "      <td>1/4/2010</td>\n",
       "      <td>1/4/2010 0:00</td>\n",
       "      <td>NaN</td>\n",
       "      <td>NaN</td>\n",
       "      <td>NaN</td>\n",
       "      <td>PLUMBING WORK IS ONGOING WITHOUT FILING FOR PE...</td>\n",
       "      <td>A8</td>\n",
       "      <td>ECB VIOLATION SERVED</td>\n",
       "      <td>AS PER INSPECTOR</td>\n",
       "      <td>34806614Z</td>\n",
       "    </tr>\n",
       "    <tr>\n",
       "      <th>1</th>\n",
       "      <td>B</td>\n",
       "      <td>102</td>\n",
       "      <td>110          CHRISTOPHER STREET</td>\n",
       "      <td>10014.0</td>\n",
       "      <td>Manhattan</td>\n",
       "      <td>1010038</td>\n",
       "      <td>1272891</td>\n",
       "      <td>66</td>\n",
       "      <td>PLUMBING WORK - ILLEGAL/NO PERMIT(ALSO SPRINKL...</td>\n",
       "      <td>B</td>\n",
       "      <td>...</td>\n",
       "      <td>1/4/2010</td>\n",
       "      <td>1/4/2010 0:00</td>\n",
       "      <td>NaN</td>\n",
       "      <td>NaN</td>\n",
       "      <td>NaN</td>\n",
       "      <td>PLUMBING WORK IS ONGOING WITHOUT FILING FOR PE...</td>\n",
       "      <td>A8</td>\n",
       "      <td>ECB VIOLATION SERVED</td>\n",
       "      <td>AS PER INSPECTOR</td>\n",
       "      <td>34806618X</td>\n",
       "    </tr>\n",
       "    <tr>\n",
       "      <th>2</th>\n",
       "      <td>C</td>\n",
       "      <td>110</td>\n",
       "      <td>2492            7 AVENUE</td>\n",
       "      <td>10030.0</td>\n",
       "      <td>Manhattan</td>\n",
       "      <td>1060459</td>\n",
       "      <td>1272972</td>\n",
       "      <td>94</td>\n",
       "      <td>PLUMBING-DEFECTIVE/LEAKING/NOT MAINTAINED</td>\n",
       "      <td>A</td>\n",
       "      <td>...</td>\n",
       "      <td>1/4/2010</td>\n",
       "      <td>1/6/2010 0:00</td>\n",
       "      <td>NaN</td>\n",
       "      <td>NaN</td>\n",
       "      <td>NaN</td>\n",
       "      <td>CALLER STATES THE PIPES ARE FROZEN IN THE BEAU...</td>\n",
       "      <td>A8</td>\n",
       "      <td>ECB VIOLATION SERVED</td>\n",
       "      <td>AS PER INSPECTOR</td>\n",
       "      <td>34806710Z</td>\n",
       "    </tr>\n",
       "    <tr>\n",
       "      <th>3</th>\n",
       "      <td>B</td>\n",
       "      <td>101</td>\n",
       "      <td>116          JOHN STREET</td>\n",
       "      <td>10038.0</td>\n",
       "      <td>Manhattan</td>\n",
       "      <td>1001126</td>\n",
       "      <td>1273017</td>\n",
       "      <td>66</td>\n",
       "      <td>PLUMBING WORK - ILLEGAL/NO PERMIT(ALSO SPRINKL...</td>\n",
       "      <td>A</td>\n",
       "      <td>...</td>\n",
       "      <td>1/5/2010</td>\n",
       "      <td>1/14/2010 0:00</td>\n",
       "      <td>NaN</td>\n",
       "      <td>NaN</td>\n",
       "      <td>NaN</td>\n",
       "      <td>CALLER IS REPORTING THAT OWNER'S IN FRONT OF A...</td>\n",
       "      <td>D2</td>\n",
       "      <td>COMPLAINT ASSIGNED TO PLUMBING UNIT</td>\n",
       "      <td>REFERRED TO DOB PLUMBING UNIT</td>\n",
       "      <td>NaN</td>\n",
       "    </tr>\n",
       "    <tr>\n",
       "      <th>4</th>\n",
       "      <td>B</td>\n",
       "      <td>101</td>\n",
       "      <td>116          JOHN STREET</td>\n",
       "      <td>10038.0</td>\n",
       "      <td>Manhattan</td>\n",
       "      <td>1001126</td>\n",
       "      <td>1273017</td>\n",
       "      <td>66</td>\n",
       "      <td>PLUMBING WORK - ILLEGAL/NO PERMIT(ALSO SPRINKL...</td>\n",
       "      <td>A</td>\n",
       "      <td>...</td>\n",
       "      <td>1/5/2010</td>\n",
       "      <td>4/6/2010 0:00</td>\n",
       "      <td>NaN</td>\n",
       "      <td>NaN</td>\n",
       "      <td>NaN</td>\n",
       "      <td>CALLER IS REPORTING THAT OWNER'S IN FRONT OF A...</td>\n",
       "      <td>I2</td>\n",
       "      <td>NO VIOLATION WARRANTED FOR COMPLAINT AT TIME O...</td>\n",
       "      <td>NO VIOLATIONS WARRANTED FOR COMPLAINT AT TIME ...</td>\n",
       "      <td>NaN</td>\n",
       "    </tr>\n",
       "  </tbody>\n",
       "</table>\n",
       "<p>5 rows × 21 columns</p>\n",
       "</div>"
      ],
      "text/plain": [
       "  priority_code  community_board                          address      ZIP  \\\n",
       "0             B              102  110          CHRISTOPHER STREET  10014.0   \n",
       "1             B              102  110          CHRISTOPHER STREET  10014.0   \n",
       "2             C              110         2492            7 AVENUE  10030.0   \n",
       "3             B              101         116          JOHN STREET  10038.0   \n",
       "4             B              101         116          JOHN STREET  10038.0   \n",
       "\n",
       "     borough      BIN       ID complaint_category  \\\n",
       "0  Manhattan  1010038  1272891                 66   \n",
       "1  Manhattan  1010038  1272891                 66   \n",
       "2  Manhattan  1060459  1272972                 94   \n",
       "3  Manhattan  1001126  1273017                 66   \n",
       "4  Manhattan  1001126  1273017                 66   \n",
       "\n",
       "                      complaint_category_description complaint_source  \\\n",
       "0  PLUMBING WORK - ILLEGAL/NO PERMIT(ALSO SPRINKL...                B   \n",
       "1  PLUMBING WORK - ILLEGAL/NO PERMIT(ALSO SPRINKL...                B   \n",
       "2          PLUMBING-DEFECTIVE/LEAKING/NOT MAINTAINED                A   \n",
       "3  PLUMBING WORK - ILLEGAL/NO PERMIT(ALSO SPRINKL...                A   \n",
       "4  PLUMBING WORK - ILLEGAL/NO PERMIT(ALSO SPRINKL...                A   \n",
       "\n",
       "          ...          date_received          d_date referral_description  \\\n",
       "0         ...               1/4/2010   1/4/2010 0:00                  NaN   \n",
       "1         ...               1/4/2010   1/4/2010 0:00                  NaN   \n",
       "2         ...               1/4/2010   1/6/2010 0:00                  NaN   \n",
       "3         ...               1/5/2010  1/14/2010 0:00                  NaN   \n",
       "4         ...               1/5/2010   4/6/2010 0:00                  NaN   \n",
       "\n",
       "   referral_agency_code  complaint_source_description  \\\n",
       "0                   NaN                           NaN   \n",
       "1                   NaN                           NaN   \n",
       "2                   NaN                           NaN   \n",
       "3                   NaN                           NaN   \n",
       "4                   NaN                           NaN   \n",
       "\n",
       "                                    complaint_reason disp_code  \\\n",
       "0  PLUMBING WORK IS ONGOING WITHOUT FILING FOR PE...        A8   \n",
       "1  PLUMBING WORK IS ONGOING WITHOUT FILING FOR PE...        A8   \n",
       "2  CALLER STATES THE PIPES ARE FROZEN IN THE BEAU...        A8   \n",
       "3  CALLER IS REPORTING THAT OWNER'S IN FRONT OF A...        D2   \n",
       "4  CALLER IS REPORTING THAT OWNER'S IN FRONT OF A...        I2   \n",
       "\n",
       "                                    disp_description  \\\n",
       "0                               ECB VIOLATION SERVED   \n",
       "1                               ECB VIOLATION SERVED   \n",
       "2                               ECB VIOLATION SERVED   \n",
       "3                COMPLAINT ASSIGNED TO PLUMBING UNIT   \n",
       "4  NO VIOLATION WARRANTED FOR COMPLAINT AT TIME O...   \n",
       "\n",
       "                                  inspector_comments ECB_violation_number  \n",
       "0                                   AS PER INSPECTOR            34806614Z  \n",
       "1                                   AS PER INSPECTOR            34806618X  \n",
       "2                                   AS PER INSPECTOR            34806710Z  \n",
       "3                      REFERRED TO DOB PLUMBING UNIT                  NaN  \n",
       "4  NO VIOLATIONS WARRANTED FOR COMPLAINT AT TIME ...                  NaN  \n",
       "\n",
       "[5 rows x 21 columns]"
      ]
     },
     "execution_count": 4,
     "metadata": {},
     "output_type": "execute_result"
    }
   ],
   "source": [
    "# Drop some columns and rename\n",
    "\n",
    "df1=df.drop(['Current Complaint Jurisdiction','Year','Month','cnxarraycolumn'],axis=1).copy()\n",
    "df1.columns = ['priority_code','community_board','address','ZIP','borough','BIN','ID','complaint_category','complaint_category_description',\n",
    "               'complaint_source','complaint_source_description','date_received','d_date','referral_description',\n",
    "               'referral_agency_code','complaint_source_description','complaint_reason','disp_code',\n",
    "               'disp_description','inspector_comments','ECB_violation_number']\n",
    "df1.head()"
   ]
  },
  {
   "cell_type": "code",
   "execution_count": 5,
   "metadata": {},
   "outputs": [
    {
     "data": {
      "text/plain": [
       "Index(['priority_code', 'community_board', 'address', 'ZIP', 'borough', 'BIN',\n",
       "       'ID', 'complaint_category', 'complaint_category_description',\n",
       "       'complaint_source', 'complaint_source_description', 'date_received',\n",
       "       'd_date', 'referral_description', 'referral_agency_code',\n",
       "       'complaint_source_description', 'complaint_reason', 'disp_code',\n",
       "       'disp_description', 'inspector_comments', 'ECB_violation_number'],\n",
       "      dtype='object')"
      ]
     },
     "execution_count": 5,
     "metadata": {},
     "output_type": "execute_result"
    }
   ],
   "source": [
    "df1.columns"
   ]
  },
  {
   "cell_type": "code",
   "execution_count": 6,
   "metadata": {},
   "outputs": [],
   "source": [
    "df1.d_date = pd.to_datetime(df1.d_date)\n",
    "df1.date_received = pd.to_datetime(df1.date_received)"
   ]
  },
  {
   "cell_type": "markdown",
   "metadata": {},
   "source": [
    "#### 1. Define categories for the outcome assignment\n",
    "Problem categories (prob_cats) should be violations and stop work orders (including partial)\n",
    "\n",
    "As discussed with Qing, decision rule is: assign 'problem' category if a violation or stop work order is ever present during one of the inspectors visits (regardless of any subsequent rescindment)\n"
   ]
  },
  {
   "cell_type": "code",
   "execution_count": 7,
   "metadata": {
    "scrolled": true
   },
   "outputs": [
    {
     "data": {
      "text/html": [
       "<div>\n",
       "<style>\n",
       "    .dataframe thead tr:only-child th {\n",
       "        text-align: right;\n",
       "    }\n",
       "\n",
       "    .dataframe thead th {\n",
       "        text-align: left;\n",
       "    }\n",
       "\n",
       "    .dataframe tbody tr th {\n",
       "        vertical-align: top;\n",
       "    }\n",
       "</style>\n",
       "<table border=\"1\" class=\"dataframe\">\n",
       "  <thead>\n",
       "    <tr style=\"text-align: right;\">\n",
       "      <th></th>\n",
       "      <th>disp_code</th>\n",
       "      <th>disp_description</th>\n",
       "    </tr>\n",
       "  </thead>\n",
       "  <tbody>\n",
       "    <tr>\n",
       "      <th>71</th>\n",
       "      <td>A1</td>\n",
       "      <td>BUILDINGS VIOLATION(S) SERVED</td>\n",
       "    </tr>\n",
       "    <tr>\n",
       "      <th>6</th>\n",
       "      <td>A3</td>\n",
       "      <td>FULL STOP WORK ORDER SERVED                   ...</td>\n",
       "    </tr>\n",
       "    <tr>\n",
       "      <th>0</th>\n",
       "      <td>A8</td>\n",
       "      <td>ECB VIOLATION SERVED</td>\n",
       "    </tr>\n",
       "    <tr>\n",
       "      <th>320</th>\n",
       "      <td>A9</td>\n",
       "      <td>ECB &amp; BUILDINGS VIOLATIONS SERVED</td>\n",
       "    </tr>\n",
       "    <tr>\n",
       "      <th>647</th>\n",
       "      <td>B1</td>\n",
       "      <td>BUILDINGS VIOLATION(S) PREPARED &amp; ATTEMPT TO S...</td>\n",
       "    </tr>\n",
       "    <tr>\n",
       "      <th>79</th>\n",
       "      <td>B2</td>\n",
       "      <td>ECB VIOLATION(S) PREPARED &amp; ATTEMPT TO SERVE W...</td>\n",
       "    </tr>\n",
       "    <tr>\n",
       "      <th>12</th>\n",
       "      <td>C1</td>\n",
       "      <td>INSPECTOR UNABLE TO GAIN ACCESS - 1ST ATTEMPT</td>\n",
       "    </tr>\n",
       "    <tr>\n",
       "      <th>13</th>\n",
       "      <td>C2</td>\n",
       "      <td>INSPECTOR UNABLE TO GAIN ACCESS - 2ND ATTEMPT</td>\n",
       "    </tr>\n",
       "    <tr>\n",
       "      <th>371</th>\n",
       "      <td>C3</td>\n",
       "      <td>ACCESS DENIED - 1ST ATTEMPT</td>\n",
       "    </tr>\n",
       "    <tr>\n",
       "      <th>535</th>\n",
       "      <td>C4</td>\n",
       "      <td>ACCESS DENIED - 2ND ATTEMPT</td>\n",
       "    </tr>\n",
       "    <tr>\n",
       "      <th>779</th>\n",
       "      <td>D1</td>\n",
       "      <td>COMPLAINT ASSIGNED TO CONSTRUCTION UNIT</td>\n",
       "    </tr>\n",
       "    <tr>\n",
       "      <th>3</th>\n",
       "      <td>D2</td>\n",
       "      <td>COMPLAINT ASSIGNED TO PLUMBING UNIT</td>\n",
       "    </tr>\n",
       "    <tr>\n",
       "      <th>18561</th>\n",
       "      <td>D3</td>\n",
       "      <td>COMPLAINT ASSIGNED TO ELEVATOR UNIT</td>\n",
       "    </tr>\n",
       "    <tr>\n",
       "      <th>3616</th>\n",
       "      <td>D4</td>\n",
       "      <td>COMPLAINT ASSIGNED TO BEST SQUAD</td>\n",
       "    </tr>\n",
       "    <tr>\n",
       "      <th>602</th>\n",
       "      <td>D5</td>\n",
       "      <td>COMPLAINT ASSIGNED TO EMERGENCY RESPONSE TEAM</td>\n",
       "    </tr>\n",
       "    <tr>\n",
       "      <th>427</th>\n",
       "      <td>D6</td>\n",
       "      <td>COMPLAINT ASSIGNED TO BOILER UNIT</td>\n",
       "    </tr>\n",
       "    <tr>\n",
       "      <th>18333</th>\n",
       "      <td>E1</td>\n",
       "      <td>COMPLAINT ASSIGNED TO BUILDING MARSHAL'S OFFICE</td>\n",
       "    </tr>\n",
       "    <tr>\n",
       "      <th>16332</th>\n",
       "      <td>E6</td>\n",
       "      <td>COMPLAINT ASSIGNED TO SPECIAL OPERATIONS UNIT</td>\n",
       "    </tr>\n",
       "    <tr>\n",
       "      <th>26665</th>\n",
       "      <td>E8</td>\n",
       "      <td>COMPLAINT ASSIGNED TO EXCAVATION INSPECTION &amp; ...</td>\n",
       "    </tr>\n",
       "    <tr>\n",
       "      <th>857</th>\n",
       "      <td>F1</td>\n",
       "      <td>COMPLAINT REFERRED TO DEPARTMENT OF ENVIRONMEN...</td>\n",
       "    </tr>\n",
       "    <tr>\n",
       "      <th>11246</th>\n",
       "      <td>F3</td>\n",
       "      <td>COMPLAINT REFERRED TO DEPARTMENT OF HEALTH</td>\n",
       "    </tr>\n",
       "    <tr>\n",
       "      <th>11524</th>\n",
       "      <td>F6</td>\n",
       "      <td>COMPLAINT REFERRED TO DEPARTMENT OF TRANSPORTA...</td>\n",
       "    </tr>\n",
       "    <tr>\n",
       "      <th>2037</th>\n",
       "      <td>F8</td>\n",
       "      <td>COMPLAINT REFERRED TO HOUSING PRESERVATION AND...</td>\n",
       "    </tr>\n",
       "    <tr>\n",
       "      <th>35161</th>\n",
       "      <td>G2</td>\n",
       "      <td>COMPLAINT REFERRED TO DEPARTMENT OF PARKS AND ...</td>\n",
       "    </tr>\n",
       "    <tr>\n",
       "      <th>1432</th>\n",
       "      <td>G6</td>\n",
       "      <td>COMPLAINT REFERRED TO FIRE DEPARTMENT OF NEW Y...</td>\n",
       "    </tr>\n",
       "    <tr>\n",
       "      <th>1205</th>\n",
       "      <td>G7</td>\n",
       "      <td>COMPLAINT REFERRED TO MAYOR'S OFFICE OF SPECIA...</td>\n",
       "    </tr>\n",
       "    <tr>\n",
       "      <th>16</th>\n",
       "      <td>H1</td>\n",
       "      <td>PLEASE SEE COMPLAINT NUMBER</td>\n",
       "    </tr>\n",
       "    <tr>\n",
       "      <th>2955</th>\n",
       "      <td>H3</td>\n",
       "      <td>BUILDING VIOLATION ISSUED FOR FAILURE TO OBEY ...</td>\n",
       "    </tr>\n",
       "    <tr>\n",
       "      <th>61</th>\n",
       "      <td>I1</td>\n",
       "      <td>COMPLAINT UNSUBSTANTIATED BASED ON DEPARTMENT ...</td>\n",
       "    </tr>\n",
       "    <tr>\n",
       "      <th>4</th>\n",
       "      <td>I2</td>\n",
       "      <td>NO VIOLATION WARRANTED FOR COMPLAINT AT TIME O...</td>\n",
       "    </tr>\n",
       "    <tr>\n",
       "      <th>327</th>\n",
       "      <td>J1</td>\n",
       "      <td>FOLLOW-UP INSPECTION TO BE SCHEDULED UPON FURT...</td>\n",
       "    </tr>\n",
       "    <tr>\n",
       "      <th>18</th>\n",
       "      <td>K1</td>\n",
       "      <td>INSUFFICIENT INFORMATION/UNABLE TO LOCATE ADDRESS</td>\n",
       "    </tr>\n",
       "    <tr>\n",
       "      <th>584</th>\n",
       "      <td>K2</td>\n",
       "      <td>ADDRESS INVALID - PENDING BUILDINGS VERIFICATION</td>\n",
       "    </tr>\n",
       "    <tr>\n",
       "      <th>10</th>\n",
       "      <td>L1</td>\n",
       "      <td>PARTIAL STOP WORK ORDER                       ...</td>\n",
       "    </tr>\n",
       "    <tr>\n",
       "      <th>7</th>\n",
       "      <td>L2</td>\n",
       "      <td>STOP WORK ORDER FULLY RESCINDED               ...</td>\n",
       "    </tr>\n",
       "    <tr>\n",
       "      <th>1670</th>\n",
       "      <td>L3</td>\n",
       "      <td>STOP WORK ORDER PARTIALLY RESCINDED           ...</td>\n",
       "    </tr>\n",
       "    <tr>\n",
       "      <th>2047</th>\n",
       "      <td>ND</td>\n",
       "      <td>NOTICE OF DEFICIENCY ISSUED</td>\n",
       "    </tr>\n",
       "    <tr>\n",
       "      <th>133</th>\n",
       "      <td>P5</td>\n",
       "      <td>POTENTIAL ORDINARY PLUMBING WORK</td>\n",
       "    </tr>\n",
       "    <tr>\n",
       "      <th>30931</th>\n",
       "      <td>R1</td>\n",
       "      <td>INSPECTION - NO IMMEDIATE ACTION/NO FOLLOW-UP ...</td>\n",
       "    </tr>\n",
       "    <tr>\n",
       "      <th>20136</th>\n",
       "      <td>WD</td>\n",
       "      <td>WEATHER RLT: NOD ISSUED/RESTRICTED/YLW TAG REM...</td>\n",
       "    </tr>\n",
       "    <tr>\n",
       "      <th>183</th>\n",
       "      <td>XX</td>\n",
       "      <td>ADMINISTRATIVE CLOSURE                        ...</td>\n",
       "    </tr>\n",
       "    <tr>\n",
       "      <th>20484</th>\n",
       "      <td>Y1</td>\n",
       "      <td>FULL VACATE ORDER ISSUED                      ...</td>\n",
       "    </tr>\n",
       "    <tr>\n",
       "      <th>5813</th>\n",
       "      <td>Y2</td>\n",
       "      <td>VACATE ORDER FULLY RESCINDED                  ...</td>\n",
       "    </tr>\n",
       "    <tr>\n",
       "      <th>5812</th>\n",
       "      <td>Y3</td>\n",
       "      <td>PARTIAL VACATE ORDER ISSUED                   ...</td>\n",
       "    </tr>\n",
       "  </tbody>\n",
       "</table>\n",
       "</div>"
      ],
      "text/plain": [
       "      disp_code                                   disp_description\n",
       "71           A1                      BUILDINGS VIOLATION(S) SERVED\n",
       "6            A3  FULL STOP WORK ORDER SERVED                   ...\n",
       "0            A8                               ECB VIOLATION SERVED\n",
       "320          A9                  ECB & BUILDINGS VIOLATIONS SERVED\n",
       "647          B1  BUILDINGS VIOLATION(S) PREPARED & ATTEMPT TO S...\n",
       "79           B2  ECB VIOLATION(S) PREPARED & ATTEMPT TO SERVE W...\n",
       "12           C1      INSPECTOR UNABLE TO GAIN ACCESS - 1ST ATTEMPT\n",
       "13           C2      INSPECTOR UNABLE TO GAIN ACCESS - 2ND ATTEMPT\n",
       "371          C3                        ACCESS DENIED - 1ST ATTEMPT\n",
       "535          C4                        ACCESS DENIED - 2ND ATTEMPT\n",
       "779          D1            COMPLAINT ASSIGNED TO CONSTRUCTION UNIT\n",
       "3            D2                COMPLAINT ASSIGNED TO PLUMBING UNIT\n",
       "18561        D3                COMPLAINT ASSIGNED TO ELEVATOR UNIT\n",
       "3616         D4                   COMPLAINT ASSIGNED TO BEST SQUAD\n",
       "602          D5      COMPLAINT ASSIGNED TO EMERGENCY RESPONSE TEAM\n",
       "427          D6                  COMPLAINT ASSIGNED TO BOILER UNIT\n",
       "18333        E1    COMPLAINT ASSIGNED TO BUILDING MARSHAL'S OFFICE\n",
       "16332        E6      COMPLAINT ASSIGNED TO SPECIAL OPERATIONS UNIT\n",
       "26665        E8  COMPLAINT ASSIGNED TO EXCAVATION INSPECTION & ...\n",
       "857          F1  COMPLAINT REFERRED TO DEPARTMENT OF ENVIRONMEN...\n",
       "11246        F3         COMPLAINT REFERRED TO DEPARTMENT OF HEALTH\n",
       "11524        F6  COMPLAINT REFERRED TO DEPARTMENT OF TRANSPORTA...\n",
       "2037         F8  COMPLAINT REFERRED TO HOUSING PRESERVATION AND...\n",
       "35161        G2  COMPLAINT REFERRED TO DEPARTMENT OF PARKS AND ...\n",
       "1432         G6  COMPLAINT REFERRED TO FIRE DEPARTMENT OF NEW Y...\n",
       "1205         G7  COMPLAINT REFERRED TO MAYOR'S OFFICE OF SPECIA...\n",
       "16           H1                        PLEASE SEE COMPLAINT NUMBER\n",
       "2955         H3  BUILDING VIOLATION ISSUED FOR FAILURE TO OBEY ...\n",
       "61           I1  COMPLAINT UNSUBSTANTIATED BASED ON DEPARTMENT ...\n",
       "4            I2  NO VIOLATION WARRANTED FOR COMPLAINT AT TIME O...\n",
       "327          J1  FOLLOW-UP INSPECTION TO BE SCHEDULED UPON FURT...\n",
       "18           K1  INSUFFICIENT INFORMATION/UNABLE TO LOCATE ADDRESS\n",
       "584          K2   ADDRESS INVALID - PENDING BUILDINGS VERIFICATION\n",
       "10           L1  PARTIAL STOP WORK ORDER                       ...\n",
       "7            L2  STOP WORK ORDER FULLY RESCINDED               ...\n",
       "1670         L3  STOP WORK ORDER PARTIALLY RESCINDED           ...\n",
       "2047         ND                        NOTICE OF DEFICIENCY ISSUED\n",
       "133          P5                   POTENTIAL ORDINARY PLUMBING WORK\n",
       "30931        R1  INSPECTION - NO IMMEDIATE ACTION/NO FOLLOW-UP ...\n",
       "20136        WD  WEATHER RLT: NOD ISSUED/RESTRICTED/YLW TAG REM...\n",
       "183          XX  ADMINISTRATIVE CLOSURE                        ...\n",
       "20484        Y1  FULL VACATE ORDER ISSUED                      ...\n",
       "5813         Y2  VACATE ORDER FULLY RESCINDED                  ...\n",
       "5812         Y3  PARTIAL VACATE ORDER ISSUED                   ..."
      ]
     },
     "execution_count": 7,
     "metadata": {},
     "output_type": "execute_result"
    }
   ],
   "source": [
    "# Make a key of the disposition codes\n",
    "\n",
    "key = df1[['disp_code','disp_description']].drop_duplicates(subset='disp_code').copy()\n",
    "key.sort_values('disp_code',inplace=True)\n",
    "key"
   ]
  },
  {
   "cell_type": "code",
   "execution_count": 8,
   "metadata": {},
   "outputs": [],
   "source": [
    "# Define categories\n",
    "\n",
    "prob_cats = {'A1','A3','A8','A9','B1','B2','D5','ND','L1','Y1','Y3'}\n",
    "no_violation = {'I1','I2','P5','R1'}\n",
    "\n",
    "all_cats = set(df1.disp_code.unique())"
   ]
  },
  {
   "cell_type": "code",
   "execution_count": 21,
   "metadata": {},
   "outputs": [
    {
     "name": "stdout",
     "output_type": "stream",
     "text": [
      "After problem_cats and no_violation, there are 29 remaining categories, namely: \n"
     ]
    },
    {
     "data": {
      "text/plain": [
       "{'C1',\n",
       " 'C2',\n",
       " 'C3',\n",
       " 'C4',\n",
       " 'D1',\n",
       " 'D2',\n",
       " 'D3',\n",
       " 'D4',\n",
       " 'D6',\n",
       " 'E1',\n",
       " 'E6',\n",
       " 'E8',\n",
       " 'F1',\n",
       " 'F3',\n",
       " 'F6',\n",
       " 'F8',\n",
       " 'G2',\n",
       " 'G6',\n",
       " 'G7',\n",
       " 'H1',\n",
       " 'H3',\n",
       " 'J1',\n",
       " 'K1',\n",
       " 'K2',\n",
       " 'L2',\n",
       " 'L3',\n",
       " 'WD',\n",
       " 'XX',\n",
       " 'Y2'}"
      ]
     },
     "execution_count": 21,
     "metadata": {},
     "output_type": "execute_result"
    }
   ],
   "source": [
    "remaining_cats = all_cats - prob_cats - no_violation\n",
    "print(\"After problem_cats and no_violation, there are {} remaining categories, namely: \".format(len(remaining_cats)))\n",
    "remaining_cats"
   ]
  },
  {
   "cell_type": "code",
   "execution_count": 26,
   "metadata": {},
   "outputs": [
    {
     "data": {
      "text/html": [
       "<div>\n",
       "<style>\n",
       "    .dataframe thead tr:only-child th {\n",
       "        text-align: right;\n",
       "    }\n",
       "\n",
       "    .dataframe thead th {\n",
       "        text-align: left;\n",
       "    }\n",
       "\n",
       "    .dataframe tbody tr th {\n",
       "        vertical-align: top;\n",
       "    }\n",
       "</style>\n",
       "<table border=\"1\" class=\"dataframe\">\n",
       "  <thead>\n",
       "    <tr style=\"text-align: right;\">\n",
       "      <th></th>\n",
       "      <th>Meaning</th>\n",
       "      <th>Outcome assigned</th>\n",
       "    </tr>\n",
       "  </thead>\n",
       "  <tbody>\n",
       "    <tr>\n",
       "      <th>0</th>\n",
       "      <td>No entry</td>\n",
       "      <td>0</td>\n",
       "    </tr>\n",
       "    <tr>\n",
       "      <th>1</th>\n",
       "      <td>No violation warranted</td>\n",
       "      <td>1</td>\n",
       "    </tr>\n",
       "    <tr>\n",
       "      <th>2</th>\n",
       "      <td>Violation / stop work order</td>\n",
       "      <td>2</td>\n",
       "    </tr>\n",
       "  </tbody>\n",
       "</table>\n",
       "</div>"
      ],
      "text/plain": [
       "                       Meaning  Outcome assigned\n",
       "0                     No entry                 0\n",
       "1       No violation warranted                 1\n",
       "2  Violation / stop work order                 2"
      ]
     },
     "execution_count": 26,
     "metadata": {},
     "output_type": "execute_result"
    }
   ],
   "source": [
    "# Show an outcome key\n",
    "\n",
    "pd.DataFrame({\"Outcome assigned\":[0,1,2],\"Meaning\":['No entry','No violation warranted','Violation / stop work order']})"
   ]
  },
  {
   "cell_type": "markdown",
   "metadata": {},
   "source": [
    "#### 2. Function to assign outcomes"
   ]
  },
  {
   "cell_type": "code",
   "execution_count": 95,
   "metadata": {},
   "outputs": [],
   "source": [
    "def assign_outcomes(comp_data):\n",
    "    \n",
    "    '''Function to assign outcome values for a complaint ID.\n",
    "    \n",
    "    Takes a chunk of a pandas dataframe (feed in one complaint ID at a time).\n",
    "    Puts all the unique disposition codes into a variable 'true_cats.' Then:\n",
    "    \n",
    "    - First checks whether any of the codes listed in 'problem_cats' is present, returning 2 if that's the case.\n",
    "    - Then checks whether any of the 'no_violation' codes is present, returning 1 if that's the case.\n",
    "    - Otherwise, returns 0 indicating no access to the address.\n",
    "    \n",
    "    Returns the value assigned for this complaint ID.\n",
    "    '''\n",
    "    \n",
    "    true_cats = set(comp_data.disp_code.unique())\n",
    "    if true_cats & prob_cats:\n",
    "        return 2\n",
    "    elif true_cats & no_violation:\n",
    "        return 1\n",
    "    else:\n",
    "        return 0"
   ]
  },
  {
   "cell_type": "code",
   "execution_count": 111,
   "metadata": {},
   "outputs": [
    {
     "data": {
      "text/plain": [
       "Timestamp('2016-03-04 00:00:00')"
      ]
     },
     "execution_count": 111,
     "metadata": {},
     "output_type": "execute_result"
    }
   ],
   "source": [
    "sample_ID = df1[df1.ID==4544445]\n",
    "sample_ID[sample_ID.disp_code.isin(prob_cats)].d_date.max()"
   ]
  },
  {
   "cell_type": "code",
   "execution_count": 114,
   "metadata": {},
   "outputs": [],
   "source": [
    "# We need to get the most recent date for an inspection \n",
    "# Currently just gives the last inspection date\n",
    "# Could add some more logic in: eg last date where \\\n",
    "# outcome was 1 or 2 (assuming 1 or 2 were present)\n",
    "\n",
    "def assign_dates(comp_data):\n",
    "    ''' \n",
    "    If outcome is 'problem', return the first inspection date where a problem was identified.\n",
    "     \n",
    "     --> note this removes any 'violation rescinded' date and just gives the date\n",
    "         when a violation or stop work order was first issued\n",
    "  \n",
    "    Else return last inspection date.\n",
    "    '''\n",
    "    \n",
    "    true_cats = set(comp_data.disp_code.unique())\n",
    "    \n",
    "    if true_cats & prob_cats:\n",
    "        return comp_data[comp_data.disp_code.isin(prob_cats)].d_date.min()\n",
    "\n",
    "    else:\n",
    "        return(comp_data.d_date.max())\n"
   ]
  },
  {
   "cell_type": "code",
   "execution_count": 127,
   "metadata": {},
   "outputs": [],
   "source": [
    "# Using the assign_outcomes function, create a dictionary with each inspection ID and its outcome.\n",
    "\n",
    "outcomes = {}\n",
    "for i in df1.ID.unique():\n",
    "    outcomes[i] = assign_outcomes(df1[df1.ID == i])\n",
    "\n",
    "# Map the outcomes to the whole dataframe\n",
    "df1['outcomes'] = df1.ID.map(outcomes)"
   ]
  },
  {
   "cell_type": "code",
   "execution_count": 128,
   "metadata": {},
   "outputs": [],
   "source": [
    "# Same with the assign_dates function\n",
    "\n",
    "last_insp_dates = {}\n",
    "for i in df1.ID.unique():\n",
    "    last_insp_dates[i] = assign_dates(df1[df1.ID == i])\n",
    "\n",
    "# Map the outcomes to the whole dataframe\n",
    "df1['insp_date'] = df1.ID.map(last_insp_dates)"
   ]
  },
  {
   "cell_type": "markdown",
   "metadata": {},
   "source": [
    "#### 3. Inspect the dataframe to check the assignment is working right\n",
    "Use the code below to check any of the complaint IDs, especially those with large numbers of records.\n",
    "Make any more corrections to the function if needed.\n"
   ]
  },
  {
   "cell_type": "code",
   "execution_count": 126,
   "metadata": {},
   "outputs": [
    {
     "data": {
      "text/html": [
       "<div>\n",
       "<style scoped>\n",
       "    .dataframe tbody tr th:only-of-type {\n",
       "        vertical-align: middle;\n",
       "    }\n",
       "\n",
       "    .dataframe tbody tr th {\n",
       "        vertical-align: top;\n",
       "    }\n",
       "\n",
       "    .dataframe thead th {\n",
       "        text-align: right;\n",
       "    }\n",
       "</style>\n",
       "<table border=\"1\" class=\"dataframe\">\n",
       "  <thead>\n",
       "    <tr style=\"text-align: right;\">\n",
       "      <th></th>\n",
       "      <th>d_date</th>\n",
       "      <th>inspector_comments</th>\n",
       "      <th>disp_code</th>\n",
       "      <th>disp_description</th>\n",
       "      <th>outcomes</th>\n",
       "      <th>insp_date</th>\n",
       "    </tr>\n",
       "  </thead>\n",
       "  <tbody>\n",
       "    <tr>\n",
       "      <th>6521</th>\n",
       "      <td>2016-05-19</td>\n",
       "      <td>NEW VIOLATIONS ISSUED</td>\n",
       "      <td>A8</td>\n",
       "      <td>ECB VIOLATION SERVED</td>\n",
       "      <td>2</td>\n",
       "      <td>2016-05-19</td>\n",
       "    </tr>\n",
       "    <tr>\n",
       "      <th>6522</th>\n",
       "      <td>2016-05-19</td>\n",
       "      <td>NEW VIOLATIONS ISSUED</td>\n",
       "      <td>A8</td>\n",
       "      <td>ECB VIOLATION SERVED</td>\n",
       "      <td>2</td>\n",
       "      <td>2016-05-19</td>\n",
       "    </tr>\n",
       "    <tr>\n",
       "      <th>6523</th>\n",
       "      <td>2016-05-19</td>\n",
       "      <td>FALSIFYING DOCUMENTS AND FAILURE TO MAINTAIN B...</td>\n",
       "      <td>L1</td>\n",
       "      <td>PARTIAL STOP WORK ORDER                       ...</td>\n",
       "      <td>2</td>\n",
       "      <td>2016-05-19</td>\n",
       "    </tr>\n",
       "    <tr>\n",
       "      <th>6524</th>\n",
       "      <td>2016-05-19</td>\n",
       "      <td>FALSIFYING DOCUMENTS AND FAILURE TO MAINTAIN B...</td>\n",
       "      <td>L1</td>\n",
       "      <td>PARTIAL STOP WORK ORDER                       ...</td>\n",
       "      <td>2</td>\n",
       "      <td>2016-05-19</td>\n",
       "    </tr>\n",
       "    <tr>\n",
       "      <th>6525</th>\n",
       "      <td>2016-08-08</td>\n",
       "      <td>SWO FULLY RESCINDED. ALL WORK APPROVED UNDER #...</td>\n",
       "      <td>L2</td>\n",
       "      <td>STOP WORK ORDER FULLY RESCINDED               ...</td>\n",
       "      <td>2</td>\n",
       "      <td>2016-05-19</td>\n",
       "    </tr>\n",
       "    <tr>\n",
       "      <th>6526</th>\n",
       "      <td>2016-08-08</td>\n",
       "      <td>SWO FULLY RESCINDED. ALL WORK APPROVED UNDER #...</td>\n",
       "      <td>L2</td>\n",
       "      <td>STOP WORK ORDER FULLY RESCINDED               ...</td>\n",
       "      <td>2</td>\n",
       "      <td>2016-05-19</td>\n",
       "    </tr>\n",
       "  </tbody>\n",
       "</table>\n",
       "</div>"
      ],
      "text/plain": [
       "         d_date                                 inspector_comments disp_code  \\\n",
       "6521 2016-05-19                              NEW VIOLATIONS ISSUED        A8   \n",
       "6522 2016-05-19                              NEW VIOLATIONS ISSUED        A8   \n",
       "6523 2016-05-19  FALSIFYING DOCUMENTS AND FAILURE TO MAINTAIN B...        L1   \n",
       "6524 2016-05-19  FALSIFYING DOCUMENTS AND FAILURE TO MAINTAIN B...        L1   \n",
       "6525 2016-08-08  SWO FULLY RESCINDED. ALL WORK APPROVED UNDER #...        L2   \n",
       "6526 2016-08-08  SWO FULLY RESCINDED. ALL WORK APPROVED UNDER #...        L2   \n",
       "\n",
       "                                       disp_description  outcomes  insp_date  \n",
       "6521                               ECB VIOLATION SERVED         2 2016-05-19  \n",
       "6522                               ECB VIOLATION SERVED         2 2016-05-19  \n",
       "6523  PARTIAL STOP WORK ORDER                       ...         2 2016-05-19  \n",
       "6524  PARTIAL STOP WORK ORDER                       ...         2 2016-05-19  \n",
       "6525  STOP WORK ORDER FULLY RESCINDED               ...         2 2016-05-19  \n",
       "6526  STOP WORK ORDER FULLY RESCINDED               ...         2 2016-05-19  "
      ]
     },
     "execution_count": 126,
     "metadata": {},
     "output_type": "execute_result"
    }
   ],
   "source": [
    "## Identify the complaints with the largest number of inspection records\n",
    "## Inspect them to check we're assigning outcomes correctly\n",
    "\n",
    "a=df1[df1.disp_code.isin(['L1','L2'])].groupby('ID').count().copy()\n",
    "top_complaints=list(a.sort_values('BIN',ascending=False).head(400).index)\n",
    "\n",
    "# Which one to inspect\n",
    "inspect = 18   # check 304\n",
    "\n",
    "# Show the complaint transactions\n",
    "\n",
    "#df1[['date_received','d_date']][df1.ID == top_complaints[inspect]]\n",
    "\n",
    "df1[['d_date','inspector_comments','disp_code','disp_description','outcomes','insp_date']][df1.ID == top_complaints[inspect]]"
   ]
  },
  {
   "cell_type": "code",
   "execution_count": 129,
   "metadata": {},
   "outputs": [
    {
     "data": {
      "text/plain": [
       "<matplotlib.axes._subplots.AxesSubplot at 0x7f0a6b348ad0>"
      ]
     },
     "execution_count": 129,
     "metadata": {},
     "output_type": "execute_result"
    },
    {
     "data": {
      "image/png": "[encoded data removed]",
      "text/plain": [
       "<Figure size 432x288 with 1 Axes>"
      ]
     },
     "metadata": {},
     "output_type": "display_data"
    }
   ],
   "source": [
    "df1['outcomes'].value_counts().plot(kind='pie',title='Inspection records by outcome (transactional data, not de-duped yet)',autopct='%.2f')"
   ]
  },
  {
   "cell_type": "code",
   "execution_count": 130,
   "metadata": {},
   "outputs": [
    {
     "data": {
      "text/plain": [
       "<matplotlib.axes._subplots.AxesSubplot at 0x7f0a3e3dea10>"
      ]
     },
     "execution_count": 130,
     "metadata": {},
     "output_type": "execute_result"
    },
    {
     "data": {
      "image/png": "[encoded data removed]",
      "text/plain": [
       "<Figure size 432x288 with 1 Axes>"
      ]
     },
     "metadata": {},
     "output_type": "display_data"
    }
   ],
   "source": [
    "df1['outcomes'][df1.outcomes != 0].value_counts().plot(kind='pie',title='Inspection records by outcome (not de-duped yet, no-access removed)',autopct='%.2f')"
   ]
  },
  {
   "cell_type": "markdown",
   "metadata": {},
   "source": [
    "#### 4. Drop duplicate values and export"
   ]
  },
  {
   "cell_type": "code",
   "execution_count": 131,
   "metadata": {},
   "outputs": [],
   "source": [
    "df_clean = df1.drop_duplicates(subset='ID').copy()"
   ]
  },
  {
   "cell_type": "code",
   "execution_count": 132,
   "metadata": {},
   "outputs": [
    {
     "data": {
      "text/plain": [
       "<matplotlib.axes._subplots.AxesSubplot at 0x7f0a3e3b2310>"
      ]
     },
     "execution_count": 132,
     "metadata": {},
     "output_type": "execute_result"
    },
    {
     "data": {
      "image/png": "[encoded data removed]",
      "text/plain": [
       "<Figure size 432x288 with 1 Axes>"
      ]
     },
     "metadata": {},
     "output_type": "display_data"
    }
   ],
   "source": [
    "df_clean['outcomes'].value_counts().plot(kind='pie',title='Inspections by outcome (clean data - de-duped)',autopct='%.2f')"
   ]
  },
  {
   "cell_type": "code",
   "execution_count": 133,
   "metadata": {},
   "outputs": [
    {
     "data": {
      "text/plain": [
       "<matplotlib.axes._subplots.AxesSubplot at 0x7f0a3e308710>"
      ]
     },
     "execution_count": 133,
     "metadata": {},
     "output_type": "execute_result"
    },
    {
     "data": {
      "image/png": "[encoded data removed]",
      "text/plain": [
       "<Figure size 432x288 with 1 Axes>"
      ]
     },
     "metadata": {},
     "output_type": "display_data"
    }
   ],
   "source": [
    "df_clean['outcomes'][df_clean.outcomes != 0].value_counts().plot(kind='pie',title='Inspections by outcome (clean data - de-duped)',autopct='%.2f')"
   ]
  },
  {
   "cell_type": "code",
   "execution_count": 134,
   "metadata": {},
   "outputs": [
    {
     "data": {
      "text/plain": [
       "(25716, 23)"
      ]
     },
     "execution_count": 134,
     "metadata": {},
     "output_type": "execute_result"
    }
   ],
   "source": [
    "df_clean.shape"
   ]
  },
  {
   "cell_type": "code",
   "execution_count": 136,
   "metadata": {},
   "outputs": [],
   "source": [
    "df_clean.to_csv(path + 'inspections_master_v1_1.csv',encoding='utf8')"
   ]
  },
  {
   "cell_type": "code",
   "execution_count": null,
   "metadata": {},
   "outputs": [],
   "source": []
  }
 ],
 "metadata": {
  "kernelspec": {
   "display_name": "ucsl17_python3",
   "language": "python",
   "name": "ucsl17_python3"
  },
  "language_info": {
   "codemirror_mode": {
    "name": "ipython",
    "version": 3
   },
   "file_extension": ".py",
   "mimetype": "text/x-python",
   "name": "python",
   "nbconvert_exporter": "python",
   "pygments_lexer": "ipython3",
   "version": "3.6.2"
  }
 },
 "nbformat": 4,
 "nbformat_minor": 2
}
