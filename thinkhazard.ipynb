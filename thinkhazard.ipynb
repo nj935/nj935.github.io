{
 "cells": [
  {
   "cell_type": "code",
   "execution_count": 1,
   "metadata": {},
   "outputs": [
    {
     "name": "stdout",
     "output_type": "stream",
     "text": [
      "Populating the interactive namespace from numpy and matplotlib\n"
     ]
    },
    {
     "name": "stderr",
     "output_type": "stream",
     "text": [
      "/home/nicholasjones/miniconda3/envs/GPD3/lib/python3.7/site-packages/IPython/core/magics/pylab.py:160: UserWarning: pylab import has clobbered these variables: ['plt']\n",
      "`%matplotlib` prevents importing * from pylab and numpy\n",
      "  \"\\n`%matplotlib` prevents importing * from pylab and numpy\"\n"
     ]
    }
   ],
   "source": [
    "import pandas as pd\n",
    "import numpy as np\n",
    "import requests\n",
    "import pylab as plt\n",
    "%pylab inline"
   ]
  },
  {
   "cell_type": "markdown",
   "metadata": {},
   "source": [
    "# ThinkHazard API: demo of a simple Python wrapper\n",
    "This notebook shows a first step to make a ThinkHazard utility in Python. Aims:\n",
    "* data scientists can get hazard ratings for a given country or admin unit\n",
    "* syntax is very concise & easy\n",
    "* takes 2 minutes to learn"
   ]
  },
  {
   "cell_type": "markdown",
   "metadata": {},
   "source": [
    "### 1. My old example of accessing APIs in Python\n",
    "Some code to make REST API requests using _requests_ library and parse the resulting json."
   ]
  },
  {
   "cell_type": "code",
   "execution_count": 58,
   "metadata": {},
   "outputs": [],
   "source": [
    "endpoint_url = 'http://api.open-notify.org/astros.json'"
   ]
  },
  {
   "cell_type": "code",
   "execution_count": 59,
   "metadata": {},
   "outputs": [],
   "source": [
    "response = requests.get(endpoint_url)"
   ]
  },
  {
   "cell_type": "code",
   "execution_count": 60,
   "metadata": {},
   "outputs": [
    {
     "data": {
      "text/plain": [
       "200"
      ]
     },
     "execution_count": 60,
     "metadata": {},
     "output_type": "execute_result"
    }
   ],
   "source": [
    "response.status_code  # 200 = it worked"
   ]
  },
  {
   "cell_type": "code",
   "execution_count": 61,
   "metadata": {},
   "outputs": [
    {
     "data": {
      "text/plain": [
       "{'message': 'success',\n",
       " 'number': 7,\n",
       " 'people': [{'craft': 'ISS', 'name': 'Sergey Ryzhikov'},\n",
       "  {'craft': 'ISS', 'name': 'Kate Rubins'},\n",
       "  {'craft': 'ISS', 'name': 'Sergey Kud-Sverchkov'},\n",
       "  {'craft': 'ISS', 'name': 'Mike Hopkins'},\n",
       "  {'craft': 'ISS', 'name': 'Victor Glover'},\n",
       "  {'craft': 'ISS', 'name': 'Shannon Walker'},\n",
       "  {'craft': 'ISS', 'name': 'Soichi Noguchi'}]}"
      ]
     },
     "execution_count": 61,
     "metadata": {},
     "output_type": "execute_result"
    }
   ],
   "source": [
    "data = response.json()\n",
    "data"
   ]
  },
  {
   "cell_type": "code",
   "execution_count": 62,
   "metadata": {},
   "outputs": [
    {
     "name": "stdout",
     "output_type": "stream",
     "text": [
      "There are currently 7 people in space\n"
     ]
    }
   ],
   "source": [
    "people_in_space = data['number']\n",
    "print(\"There are currently {} people in space\".format(people_in_space))"
   ]
  },
  {
   "cell_type": "markdown",
   "metadata": {},
   "source": [
    "### 2. Same for the ThinkHazard API\n",
    "Get hazard ratings for Pakistan"
   ]
  },
  {
   "cell_type": "code",
   "execution_count": 40,
   "metadata": {},
   "outputs": [],
   "source": [
    "endpoint = 'http://thinkhazard.org/en/report/188.json'    # 188 = Pakistan"
   ]
  },
  {
   "cell_type": "code",
   "execution_count": 63,
   "metadata": {},
   "outputs": [
    {
     "data": {
      "text/plain": [
       "200"
      ]
     },
     "execution_count": 63,
     "metadata": {},
     "output_type": "execute_result"
    }
   ],
   "source": [
    "response = requests.get(endpoint)\n",
    "response.status_code"
   ]
  },
  {
   "cell_type": "code",
   "execution_count": 64,
   "metadata": {},
   "outputs": [
    {
     "data": {
      "text/plain": [
       "[{'hazardtype': {'mnemonic': 'FL', 'hazardtype': 'River flood'},\n",
       "  'hazardlevel': {'mnemonic': 'HIG', 'title': 'High'}},\n",
       " {'hazardtype': {'mnemonic': 'UF', 'hazardtype': 'Urban flood'},\n",
       "  'hazardlevel': {'mnemonic': 'HIG', 'title': 'High'}},\n",
       " {'hazardtype': {'mnemonic': 'CF', 'hazardtype': 'Coastal flood'},\n",
       "  'hazardlevel': {'mnemonic': 'HIG', 'title': 'High'}}]"
      ]
     },
     "execution_count": 64,
     "metadata": {},
     "output_type": "execute_result"
    }
   ],
   "source": [
    "data=response.json()\n",
    "data[:3]"
   ]
  },
  {
   "cell_type": "code",
   "execution_count": 67,
   "metadata": {},
   "outputs": [
    {
     "name": "stdout",
     "output_type": "stream",
     "text": [
      "River flood\n",
      "High\n"
     ]
    }
   ],
   "source": [
    "print(data[0]['hazardtype']['hazardtype'])  # parsing the json\n",
    "print(data[0]['hazardlevel']['title'])"
   ]
  },
  {
   "cell_type": "code",
   "execution_count": 68,
   "metadata": {},
   "outputs": [
    {
     "data": {
      "text/html": [
       "<div>\n",
       "<style scoped>\n",
       "    .dataframe tbody tr th:only-of-type {\n",
       "        vertical-align: middle;\n",
       "    }\n",
       "\n",
       "    .dataframe tbody tr th {\n",
       "        vertical-align: top;\n",
       "    }\n",
       "\n",
       "    .dataframe thead th {\n",
       "        text-align: right;\n",
       "    }\n",
       "</style>\n",
       "<table border=\"1\" class=\"dataframe\">\n",
       "  <thead>\n",
       "    <tr style=\"text-align: right;\">\n",
       "      <th></th>\n",
       "      <th>Hazard</th>\n",
       "      <th>Level</th>\n",
       "    </tr>\n",
       "  </thead>\n",
       "  <tbody>\n",
       "    <tr>\n",
       "      <th>0</th>\n",
       "      <td>River flood</td>\n",
       "      <td>High</td>\n",
       "    </tr>\n",
       "    <tr>\n",
       "      <th>1</th>\n",
       "      <td>Urban flood</td>\n",
       "      <td>High</td>\n",
       "    </tr>\n",
       "    <tr>\n",
       "      <th>2</th>\n",
       "      <td>Coastal flood</td>\n",
       "      <td>High</td>\n",
       "    </tr>\n",
       "    <tr>\n",
       "      <th>3</th>\n",
       "      <td>Earthquake</td>\n",
       "      <td>High</td>\n",
       "    </tr>\n",
       "    <tr>\n",
       "      <th>4</th>\n",
       "      <td>Landslide</td>\n",
       "      <td>High</td>\n",
       "    </tr>\n",
       "  </tbody>\n",
       "</table>\n",
       "</div>"
      ],
      "text/plain": [
       "          Hazard Level\n",
       "0    River flood  High\n",
       "1    Urban flood  High\n",
       "2  Coastal flood  High\n",
       "3     Earthquake  High\n",
       "4      Landslide  High"
      ]
     },
     "execution_count": 68,
     "metadata": {},
     "output_type": "execute_result"
    }
   ],
   "source": [
    "hazards = [item['hazardtype']['hazardtype'] for item in data]\n",
    "levels = [item['hazardlevel']['title'] for item in data]\n",
    "\n",
    "pd.DataFrame({'Hazard': hazards, 'Level':levels}).head()"
   ]
  },
  {
   "cell_type": "markdown",
   "metadata": {},
   "source": [
    "### 3. Same through an API wrapper\n",
    "Make it easier using a class 'ThinkHazard' that connects to the API and knows how to parse the output.\n",
    "User creates a thinkHazard object:\n",
    "```th = thinkHazard()```)\n",
    "The object makes several methods available:\n",
    "* ```hazard_rankings(country_code)``` takes a country or adm unit code and returns the rankings\n",
    "* other methods can be added."
   ]
  },
  {
   "cell_type": "code",
   "execution_count": 198,
   "metadata": {},
   "outputs": [],
   "source": [
    "class thinkHazard():\n",
    "    def __init__ (self,endpoint='http://thinkhazard.org/en/'):\n",
    "        self.endpoint=endpoint\n",
    "        self.country_code_map = {188:'Pakistan',115:'India',175:'Nepal',23:'Bangladesh',231:'Sri Lanka'} # a full country code mapping would be helpful\n",
    "        \n",
    "    def hazard_rankings(self,country_code):\n",
    "        # Get the hazard rankings from TH database (chosen country)\n",
    "        query = self.endpoint + 'report/{}.json'.format(country_code)\n",
    "        print(\"query: \",query)\n",
    "        data = requests.get(query).json()\n",
    "        hazards = [item['hazardtype']['hazardtype'] for item in data]\n",
    "        levels = [item['hazardlevel']['title'] for item in data]\n",
    "\n",
    "        return(pd.DataFrame({'Hazard': hazards, 'Level':levels}))\n",
    "    \n",
    "    def hazard_recommendation(self,country_code,hazard,verbose=True):\n",
    "        # Get the recommendations from TH database (chosen country and hazard)\n",
    "        query = self.endpoint + 'report/{}/{}.json'.format(country_code,hazard)\n",
    "        data = requests.get(query).json()\n",
    "        return(data['hazard_category']['hazard_type'],\n",
    "               data['hazard_category']['hazard_level'],\n",
    "               data['hazard_category']['general_recommendation'])\n",
    "    \n",
    "    def query(self,countries,hazard):\n",
    "    # A query function for one hazard across multiple countries.\n",
    "        levels = []\n",
    "        for country in countries:\n",
    "            df=self.hazard_rankings(country)\n",
    "            levels.append(df['Level'][df.Hazard == hazard].iloc[0])\n",
    "        country_names = pd.Series(countries).replace(self.country_code_map)\n",
    "        return(pd.DataFrame({\"Country code\":countries,\"Country name\":country_names,\"Hazard level\":levels}))\n",
    "    \n",
    "    def hazard_category(self,hazard,level):\n",
    "    # Get the general information for the hazard & severity level, as documented  here:\n",
    "    # https://gfdrr.github.io/thinkhazardmethods/#complete-report-for-a-division-for-a-hazard-type    \n",
    "        pass"
   ]
  },
  {
   "cell_type": "code",
   "execution_count": 200,
   "metadata": {},
   "outputs": [],
   "source": [
    "th=thinkHazard()"
   ]
  },
  {
   "cell_type": "code",
   "execution_count": 201,
   "metadata": {},
   "outputs": [
    {
     "name": "stdout",
     "output_type": "stream",
     "text": [
      "query:  http://thinkhazard.org/en/report/188.json\n"
     ]
    },
    {
     "data": {
      "text/html": [
       "<div>\n",
       "<style scoped>\n",
       "    .dataframe tbody tr th:only-of-type {\n",
       "        vertical-align: middle;\n",
       "    }\n",
       "\n",
       "    .dataframe tbody tr th {\n",
       "        vertical-align: top;\n",
       "    }\n",
       "\n",
       "    .dataframe thead th {\n",
       "        text-align: right;\n",
       "    }\n",
       "</style>\n",
       "<table border=\"1\" class=\"dataframe\">\n",
       "  <thead>\n",
       "    <tr style=\"text-align: right;\">\n",
       "      <th></th>\n",
       "      <th>Hazard</th>\n",
       "      <th>Level</th>\n",
       "    </tr>\n",
       "  </thead>\n",
       "  <tbody>\n",
       "    <tr>\n",
       "      <th>0</th>\n",
       "      <td>River flood</td>\n",
       "      <td>High</td>\n",
       "    </tr>\n",
       "    <tr>\n",
       "      <th>1</th>\n",
       "      <td>Urban flood</td>\n",
       "      <td>High</td>\n",
       "    </tr>\n",
       "    <tr>\n",
       "      <th>2</th>\n",
       "      <td>Coastal flood</td>\n",
       "      <td>High</td>\n",
       "    </tr>\n",
       "    <tr>\n",
       "      <th>3</th>\n",
       "      <td>Earthquake</td>\n",
       "      <td>High</td>\n",
       "    </tr>\n",
       "    <tr>\n",
       "      <th>4</th>\n",
       "      <td>Landslide</td>\n",
       "      <td>High</td>\n",
       "    </tr>\n",
       "    <tr>\n",
       "      <th>5</th>\n",
       "      <td>Tsunami</td>\n",
       "      <td>Medium</td>\n",
       "    </tr>\n",
       "    <tr>\n",
       "      <th>6</th>\n",
       "      <td>Volcano</td>\n",
       "      <td>Low</td>\n",
       "    </tr>\n",
       "    <tr>\n",
       "      <th>7</th>\n",
       "      <td>Cyclone</td>\n",
       "      <td>High</td>\n",
       "    </tr>\n",
       "    <tr>\n",
       "      <th>8</th>\n",
       "      <td>Water scarcity</td>\n",
       "      <td>High</td>\n",
       "    </tr>\n",
       "    <tr>\n",
       "      <th>9</th>\n",
       "      <td>Extreme heat</td>\n",
       "      <td>High</td>\n",
       "    </tr>\n",
       "    <tr>\n",
       "      <th>10</th>\n",
       "      <td>Wildfire</td>\n",
       "      <td>High</td>\n",
       "    </tr>\n",
       "  </tbody>\n",
       "</table>\n",
       "</div>"
      ],
      "text/plain": [
       "            Hazard   Level\n",
       "0      River flood    High\n",
       "1      Urban flood    High\n",
       "2    Coastal flood    High\n",
       "3       Earthquake    High\n",
       "4        Landslide    High\n",
       "5          Tsunami  Medium\n",
       "6          Volcano     Low\n",
       "7          Cyclone    High\n",
       "8   Water scarcity    High\n",
       "9     Extreme heat    High\n",
       "10        Wildfire    High"
      ]
     },
     "execution_count": 201,
     "metadata": {},
     "output_type": "execute_result"
    }
   ],
   "source": [
    "th.hazard_rankings(188) # Pakistan"
   ]
  },
  {
   "cell_type": "code",
   "execution_count": 202,
   "metadata": {},
   "outputs": [
    {
     "name": "stdout",
     "output_type": "stream",
     "text": [
      "query:  http://thinkhazard.org/en/report/203.json\n"
     ]
    },
    {
     "data": {
      "text/html": [
       "<div>\n",
       "<style scoped>\n",
       "    .dataframe tbody tr th:only-of-type {\n",
       "        vertical-align: middle;\n",
       "    }\n",
       "\n",
       "    .dataframe tbody tr th {\n",
       "        vertical-align: top;\n",
       "    }\n",
       "\n",
       "    .dataframe thead th {\n",
       "        text-align: right;\n",
       "    }\n",
       "</style>\n",
       "<table border=\"1\" class=\"dataframe\">\n",
       "  <thead>\n",
       "    <tr style=\"text-align: right;\">\n",
       "      <th></th>\n",
       "      <th>Hazard</th>\n",
       "      <th>Level</th>\n",
       "    </tr>\n",
       "  </thead>\n",
       "  <tbody>\n",
       "    <tr>\n",
       "      <th>0</th>\n",
       "      <td>River flood</td>\n",
       "      <td>High</td>\n",
       "    </tr>\n",
       "    <tr>\n",
       "      <th>1</th>\n",
       "      <td>Urban flood</td>\n",
       "      <td>High</td>\n",
       "    </tr>\n",
       "    <tr>\n",
       "      <th>2</th>\n",
       "      <td>Coastal flood</td>\n",
       "      <td>No Data</td>\n",
       "    </tr>\n",
       "    <tr>\n",
       "      <th>3</th>\n",
       "      <td>Earthquake</td>\n",
       "      <td>Medium</td>\n",
       "    </tr>\n",
       "    <tr>\n",
       "      <th>4</th>\n",
       "      <td>Landslide</td>\n",
       "      <td>High</td>\n",
       "    </tr>\n",
       "    <tr>\n",
       "      <th>5</th>\n",
       "      <td>Tsunami</td>\n",
       "      <td>No Data</td>\n",
       "    </tr>\n",
       "    <tr>\n",
       "      <th>6</th>\n",
       "      <td>Volcano</td>\n",
       "      <td>No Data</td>\n",
       "    </tr>\n",
       "    <tr>\n",
       "      <th>7</th>\n",
       "      <td>Cyclone</td>\n",
       "      <td>No Data</td>\n",
       "    </tr>\n",
       "    <tr>\n",
       "      <th>8</th>\n",
       "      <td>Water scarcity</td>\n",
       "      <td>Medium</td>\n",
       "    </tr>\n",
       "    <tr>\n",
       "      <th>9</th>\n",
       "      <td>Extreme heat</td>\n",
       "      <td>Medium</td>\n",
       "    </tr>\n",
       "    <tr>\n",
       "      <th>10</th>\n",
       "      <td>Wildfire</td>\n",
       "      <td>High</td>\n",
       "    </tr>\n",
       "  </tbody>\n",
       "</table>\n",
       "</div>"
      ],
      "text/plain": [
       "            Hazard    Level\n",
       "0      River flood     High\n",
       "1      Urban flood     High\n",
       "2    Coastal flood  No Data\n",
       "3       Earthquake   Medium\n",
       "4        Landslide     High\n",
       "5          Tsunami  No Data\n",
       "6          Volcano  No Data\n",
       "7          Cyclone  No Data\n",
       "8   Water scarcity   Medium\n",
       "9     Extreme heat   Medium\n",
       "10        Wildfire     High"
      ]
     },
     "execution_count": 202,
     "metadata": {},
     "output_type": "execute_result"
    }
   ],
   "source": [
    "th.hazard_rankings(203) # Romania"
   ]
  },
  {
   "cell_type": "code",
   "execution_count": 203,
   "metadata": {},
   "outputs": [
    {
     "data": {
      "text/plain": [
       "('River flood',\n",
       " 'High',\n",
       " \"In the area you have selected name of location river flood hazard is classified as **high** based on modeled flood information currently available to this tool. This means that potentially damaging and life-threatening river floods are expected to occur at least once in the next 10 years. **Project planning decisions, project design, and construction methods must take into account the level of river flood hazard**. Surface flood hazard in urban and rural areas is not included in this hazard classification, and may also be possible in this location. Please see 'Urban Flood' for consideration of urban surface and river flooding.The following is a list of recommendations that could be followed in different phases of the project to help reduce the risk to your project. Please note that these recommendations are generic and not project-specific.\\r\\n\")"
      ]
     },
     "execution_count": 203,
     "metadata": {},
     "output_type": "execute_result"
    }
   ],
   "source": [
    "th.hazard_recommendation(188,'FL')  # flood in Pakistan"
   ]
  },
  {
   "cell_type": "code",
   "execution_count": 205,
   "metadata": {},
   "outputs": [
    {
     "name": "stdout",
     "output_type": "stream",
     "text": [
      "query:  http://thinkhazard.org/en/report/188.json\n",
      "query:  http://thinkhazard.org/en/report/115.json\n",
      "query:  http://thinkhazard.org/en/report/175.json\n",
      "query:  http://thinkhazard.org/en/report/23.json\n",
      "query:  http://thinkhazard.org/en/report/231.json\n"
     ]
    },
    {
     "data": {
      "text/html": [
       "<div>\n",
       "<style scoped>\n",
       "    .dataframe tbody tr th:only-of-type {\n",
       "        vertical-align: middle;\n",
       "    }\n",
       "\n",
       "    .dataframe tbody tr th {\n",
       "        vertical-align: top;\n",
       "    }\n",
       "\n",
       "    .dataframe thead th {\n",
       "        text-align: right;\n",
       "    }\n",
       "</style>\n",
       "<table border=\"1\" class=\"dataframe\">\n",
       "  <thead>\n",
       "    <tr style=\"text-align: right;\">\n",
       "      <th></th>\n",
       "      <th>Country code</th>\n",
       "      <th>Country name</th>\n",
       "      <th>Hazard level</th>\n",
       "    </tr>\n",
       "  </thead>\n",
       "  <tbody>\n",
       "    <tr>\n",
       "      <th>0</th>\n",
       "      <td>188</td>\n",
       "      <td>Pakistan</td>\n",
       "      <td>High</td>\n",
       "    </tr>\n",
       "    <tr>\n",
       "      <th>1</th>\n",
       "      <td>115</td>\n",
       "      <td>India</td>\n",
       "      <td>High</td>\n",
       "    </tr>\n",
       "    <tr>\n",
       "      <th>2</th>\n",
       "      <td>175</td>\n",
       "      <td>Nepal</td>\n",
       "      <td>Medium</td>\n",
       "    </tr>\n",
       "    <tr>\n",
       "      <th>3</th>\n",
       "      <td>23</td>\n",
       "      <td>Bangladesh</td>\n",
       "      <td>Medium</td>\n",
       "    </tr>\n",
       "    <tr>\n",
       "      <th>4</th>\n",
       "      <td>231</td>\n",
       "      <td>Sri Lanka</td>\n",
       "      <td>Very low</td>\n",
       "    </tr>\n",
       "  </tbody>\n",
       "</table>\n",
       "</div>"
      ],
      "text/plain": [
       "   Country code Country name Hazard level\n",
       "0           188     Pakistan         High\n",
       "1           115        India         High\n",
       "2           175        Nepal       Medium\n",
       "3            23   Bangladesh       Medium\n",
       "4           231    Sri Lanka     Very low"
      ]
     },
     "execution_count": 205,
     "metadata": {},
     "output_type": "execute_result"
    }
   ],
   "source": [
    "th.query([188,115,175,23,231],'Earthquake') # Earthquake in South Asian countries"
   ]
  }
 ],
 "metadata": {
  "kernelspec": {
   "display_name": "GPD3",
   "language": "python",
   "name": "gpd3"
  },
  "language_info": {
   "codemirror_mode": {
    "name": "ipython",
    "version": 3
   },
   "file_extension": ".py",
   "mimetype": "text/x-python",
   "name": "python",
   "nbconvert_exporter": "python",
   "pygments_lexer": "ipython3",
   "version": "3.7.7"
  }
 },
 "nbformat": 4,
 "nbformat_minor": 4
}
