{
 "cells": [
  {
   "cell_type": "code",
   "execution_count": 1,
   "metadata": {},
   "outputs": [
    {
     "name": "stdout",
     "output_type": "stream",
     "text": [
      "Populating the interactive namespace from numpy and matplotlib\n"
     ]
    },
    {
     "name": "stderr",
     "output_type": "stream",
     "text": [
      "/home/nicholasjones/miniconda3/envs/GPD3/lib/python3.7/site-packages/IPython/core/magics/pylab.py:160: UserWarning: pylab import has clobbered these variables: ['plt']\n",
      "`%matplotlib` prevents importing * from pylab and numpy\n",
      "  \"\\n`%matplotlib` prevents importing * from pylab and numpy\"\n"
     ]
    }
   ],
   "source": [
    "import pandas as pd\n",
    "import numpy as np\n",
    "import requests\n",
    "import pylab as plt\n",
    "%pylab inline"
   ]
  },
  {
   "cell_type": "markdown",
   "metadata": {},
   "source": [
    "# ThinkHazard API: demo of a simple Python wrapper\n",
    "This notebook shows a first step to make a ThinkHazard utility in Python. Aims:\n",
    "* data scientists can get hazard ratings for a given country or admin unit\n",
    "* syntax is very concise & easy\n",
    "* takes 2 minutes to learn"
   ]
  },
  {
   "cell_type": "markdown",
   "metadata": {},
   "source": [
    "### 1. My old example of accessing APIs in Python\n",
    "Some code to make REST API requests using _requests_ library and parse the resulting json."
   ]
  },
  {
   "cell_type": "code",
   "execution_count": 58,
   "metadata": {},
   "outputs": [],
   "source": [
    "endpoint_url = 'http://api.open-notify.org/astros.json'"
   ]
  },
  {
   "cell_type": "code",
   "execution_count": 59,
   "metadata": {},
   "outputs": [],
   "source": [
    "response = requests.get(endpoint_url)"
   ]
  },
  {
   "cell_type": "code",
   "execution_count": 60,
   "metadata": {},
   "outputs": [
    {
     "data": {
      "text/plain": [
       "200"
      ]
     },
     "execution_count": 60,
     "metadata": {},
     "output_type": "execute_result"
    }
   ],
   "source": [
    "response.status_code  # 200 = it worked"
   ]
  },
  {
   "cell_type": "code",
   "execution_count": 61,
   "metadata": {},
   "outputs": [
    {
     "data": {
      "text/plain": [
       "{'message': 'success',\n",
       " 'number': 7,\n",
       " 'people': [{'craft': 'ISS', 'name': 'Sergey Ryzhikov'},\n",
       "  {'craft': 'ISS', 'name': 'Kate Rubins'},\n",
       "  {'craft': 'ISS', 'name': 'Sergey Kud-Sverchkov'},\n",
       "  {'craft': 'ISS', 'name': 'Mike Hopkins'},\n",
       "  {'craft': 'ISS', 'name': 'Victor Glover'},\n",
       "  {'craft': 'ISS', 'name': 'Shannon Walker'},\n",
       "  {'craft': 'ISS', 'name': 'Soichi Noguchi'}]}"
      ]
     },
     "execution_count": 61,
     "metadata": {},
     "output_type": "execute_result"
    }
   ],
   "source": [
    "data = response.json()\n",
    "data"
   ]
  },
  {
   "cell_type": "code",
   "execution_count": 62,
   "metadata": {},
   "outputs": [
    {
     "name": "stdout",
     "output_type": "stream",
     "text": [
      "There are currently 7 people in space\n"
     ]
    }
   ],
   "source": [
    "people_in_space = data['number']\n",
    "print(\"There are currently {} people in space\".format(people_in_space))"
   ]
  },
  {
   "cell_type": "markdown",
   "metadata": {},
   "source": [
    "### 2. Same for the ThinkHazard API\n",
    "Get hazard ratings for Pakistan"
   ]
  },
  {
   "cell_type": "code",
   "execution_count": 40,
   "metadata": {},
   "outputs": [],
   "source": [
    "endpoint = 'http://thinkhazard.org/en/report/188.json'    # 188 = Pakistan"
   ]
  },
  {
   "cell_type": "code",
   "execution_count": 63,
   "metadata": {},
   "outputs": [
    {
     "data": {
      "text/plain": [
       "200"
      ]
     },
     "execution_count": 63,
     "metadata": {},
     "output_type": "execute_result"
    }
   ],
   "source": [
    "response = requests.get(endpoint)\n",
    "response.status_code"
   ]
  },
  {
   "cell_type": "code",
   "execution_count": 64,
   "metadata": {},
   "outputs": [
    {
     "data": {
      "text/plain": [
       "[{'hazardtype': {'mnemonic': 'FL', 'hazardtype': 'River flood'},\n",
       "  'hazardlevel': {'mnemonic': 'HIG', 'title': 'High'}},\n",
       " {'hazardtype': {'mnemonic': 'UF', 'hazardtype': 'Urban flood'},\n",
       "  'hazardlevel': {'mnemonic': 'HIG', 'title': 'High'}},\n",
       " {'hazardtype': {'mnemonic': 'CF', 'hazardtype': 'Coastal flood'},\n",
       "  'hazardlevel': {'mnemonic': 'HIG', 'title': 'High'}}]"
      ]
     },
     "execution_count": 64,
     "metadata": {},
     "output_type": "execute_result"
    }
   ],
   "source": [
    "data=response.json()\n",
    "data[:3]"
   ]
  },
  {
   "cell_type": "code",
   "execution_count": 67,
   "metadata": {},
   "outputs": [
    {
     "name": "stdout",
     "output_type": "stream",
     "text": [
      "River flood\n",
      "High\n"
     ]
    }
   ],
   "source": [
    "print(data[0]['hazardtype']['hazardtype'])  # parsing the json\n",
    "print(data[0]['hazardlevel']['title'])"
   ]
  },
  {
   "cell_type": "code",
   "execution_count": 68,
   "metadata": {},
   "outputs": [
    {
     "data": {
      "text/html": [
       "<div>\n",
       "<style scoped>\n",
       "    .dataframe tbody tr th:only-of-type {\n",
       "        vertical-align: middle;\n",
       "    }\n",
       "\n",
       "    .dataframe tbody tr th {\n",
       "        vertical-align: top;\n",
       "    }\n",
       "\n",
       "    .dataframe thead th {\n",
       "        text-align: right;\n",
       "    }\n",
       "</style>\n",
       "<table border=\"1\" class=\"dataframe\">\n",
       "  <thead>\n",
       "    <tr style=\"text-align: right;\">\n",
       "      <th></th>\n",
       "      <th>Hazard</th>\n",
       "      <th>Level</th>\n",
       "    </tr>\n",
       "  </thead>\n",
       "  <tbody>\n",
       "    <tr>\n",
       "      <th>0</th>\n",
       "      <td>River flood</td>\n",
       "      <td>High</td>\n",
       "    </tr>\n",
       "    <tr>\n",
       "      <th>1</th>\n",
       "      <td>Urban flood</td>\n",
       "      <td>High</td>\n",
       "    </tr>\n",
       "    <tr>\n",
       "      <th>2</th>\n",
       "      <td>Coastal flood</td>\n",
       "      <td>High</td>\n",
       "    </tr>\n",
       "    <tr>\n",
       "      <th>3</th>\n",
       "      <td>Earthquake</td>\n",
       "      <td>High</td>\n",
       "    </tr>\n",
       "    <tr>\n",
       "      <th>4</th>\n",
       "      <td>Landslide</td>\n",
       "      <td>High</td>\n",
       "    </tr>\n",
       "  </tbody>\n",
       "</table>\n",
       "</div>"
      ],
      "text/plain": [
       "          Hazard Level\n",
       "0    River flood  High\n",
       "1    Urban flood  High\n",
       "2  Coastal flood  High\n",
       "3     Earthquake  High\n",
       "4      Landslide  High"
      ]
     },
     "execution_count": 68,
     "metadata": {},
     "output_type": "execute_result"
    }
   ],
   "source": [
    "hazards = [item['hazardtype']['hazardtype'] for item in data]\n",
    "levels = [item['hazardlevel']['title'] for item in data]\n",
    "\n",
    "pd.DataFrame({'Hazard': hazards, 'Level':levels}).head()"
   ]
  },
  {
   "cell_type": "markdown",
   "metadata": {},
   "source": [
    "### 3. Same through an API wrapper\n",
    "Make it easier using a class 'ThinkHazard' that connects to the API and knows how to parse the output.\n",
    "User creates a thinkHazard object:\n",
    "```th = thinkHazard()```)\n",
    "The object makes several methods available:\n",
    "* ```hazard_rankings(country_code)``` takes a country or adm unit code and returns the rankings\n",
    "* other methods can be added."
   ]
  },
  {
   "cell_type": "code",
   "execution_count": 247,
   "metadata": {},
   "outputs": [],
   "source": [
    "class thinkHazard():\n",
    "    def __init__ (self,endpoint='http://thinkhazard.org/en/'):\n",
    "        self.endpoint=endpoint\n",
    "        self.country_code_map = {188:'Pakistan',115:'India',175:'Nepal',23:'Bangladesh',231:'Sri Lanka'} # a full country code mapping would be helpful\n",
    "        self.country_codes = pd.read_csv('https://raw.githubusercontent.com/GFDRR/thinkhazardmethods/master/source/download/ADM2_TH.csv',sep=';',names = ['adm2_code','adm2_name','adm1_code','adm1_name','adm0_code','country_name'],skiprows=1)\n",
    "\n",
    "    def hazard_rankings(self,country_code):\n",
    "        # Get the hazard rankings from TH database (chosen country)\n",
    "        query = self.endpoint + 'report/{}.json'.format(country_code)\n",
    "        print(\"query: \",query)\n",
    "        data = requests.get(query).json()\n",
    "        hazards = [item['hazardtype']['hazardtype'] for item in data]\n",
    "        levels = [item['hazardlevel']['title'] for item in data]\n",
    "\n",
    "        return(pd.DataFrame({'Hazard': hazards, 'Level':levels}))\n",
    "    \n",
    "    def hazard_recommendation(self,country_code,hazard,verbose=True):\n",
    "        # Get the recommendations from TH database (chosen country and hazard)\n",
    "        query = self.endpoint + 'report/{}/{}.json'.format(country_code,hazard)\n",
    "        data = requests.get(query).json()\n",
    "        return(data['hazard_category']['hazard_type'],\n",
    "               data['hazard_category']['hazard_level'],\n",
    "               data['hazard_category']['general_recommendation'])\n",
    "    \n",
    "    def query(self,countries,hazard):\n",
    "    # A query function for one hazard across multiple countries.\n",
    "        levels = []\n",
    "        for country in countries:\n",
    "            df=self.hazard_rankings(country)\n",
    "            levels.append(df['Level'][df.Hazard == hazard].iloc[0])\n",
    "        country_names = pd.Series(countries).replace(self.country_code_map)\n",
    "        return(pd.DataFrame({\"Country code\":countries,\"Country name\":country_names,\"Hazard level\":levels}))\n",
    "    \n",
    "    def hazard_category(self,hazard,level):\n",
    "    # Get the general information for the hazard & severity level, as documented  here:\n",
    "    # https://gfdrr.github.io/thinkhazardmethods/#complete-report-for-a-division-for-a-hazard-type    \n",
    "        pass"
   ]
  },
  {
   "cell_type": "code",
   "execution_count": 230,
   "metadata": {},
   "outputs": [
    {
     "data": {
      "text/html": [
       "<div>\n",
       "<style scoped>\n",
       "    .dataframe tbody tr th:only-of-type {\n",
       "        vertical-align: middle;\n",
       "    }\n",
       "\n",
       "    .dataframe tbody tr th {\n",
       "        vertical-align: top;\n",
       "    }\n",
       "\n",
       "    .dataframe thead th {\n",
       "        text-align: right;\n",
       "    }\n",
       "</style>\n",
       "<table border=\"1\" class=\"dataframe\">\n",
       "  <thead>\n",
       "    <tr style=\"text-align: right;\">\n",
       "      <th></th>\n",
       "      <th>adm0_code</th>\n",
       "      <th>country_name</th>\n",
       "      <th>ISO</th>\n",
       "    </tr>\n",
       "  </thead>\n",
       "  <tbody>\n",
       "    <tr>\n",
       "      <th>0</th>\n",
       "      <td>1</td>\n",
       "      <td>Afghanistan</td>\n",
       "      <td>AFG</td>\n",
       "    </tr>\n",
       "    <tr>\n",
       "      <th>1</th>\n",
       "      <td>3</td>\n",
       "      <td>Albania</td>\n",
       "      <td>ALB</td>\n",
       "    </tr>\n",
       "  </tbody>\n",
       "</table>\n",
       "</div>"
      ],
      "text/plain": [
       "   adm0_code country_name  ISO\n",
       "0          1  Afghanistan  AFG\n",
       "1          3      Albania  ALB"
      ]
     },
     "execution_count": 230,
     "metadata": {},
     "output_type": "execute_result"
    }
   ],
   "source": [
    "adm0 = pd.read_csv('https://raw.githubusercontent.com/GFDRR/thinkhazardmethods/master/source/download/ADM0_TH.csv',sep=';',usecols=['ADM0_NAME','ADM0_CODE','ISO3166_a3'])\n",
    "adm0.columns=['adm0_code','country_name','ISO']\n",
    "adm0.head(2)"
   ]
  },
  {
   "cell_type": "code",
   "execution_count": 231,
   "metadata": {},
   "outputs": [
    {
     "data": {
      "text/html": [
       "<div>\n",
       "<style scoped>\n",
       "    .dataframe tbody tr th:only-of-type {\n",
       "        vertical-align: middle;\n",
       "    }\n",
       "\n",
       "    .dataframe tbody tr th {\n",
       "        vertical-align: top;\n",
       "    }\n",
       "\n",
       "    .dataframe thead th {\n",
       "        text-align: right;\n",
       "    }\n",
       "</style>\n",
       "<table border=\"1\" class=\"dataframe\">\n",
       "  <thead>\n",
       "    <tr style=\"text-align: right;\">\n",
       "      <th></th>\n",
       "      <th>adm1_code</th>\n",
       "      <th>adm1_name</th>\n",
       "      <th>adm0_code</th>\n",
       "      <th>country_name</th>\n",
       "    </tr>\n",
       "  </thead>\n",
       "  <tbody>\n",
       "    <tr>\n",
       "      <th>0</th>\n",
       "      <td>272</td>\n",
       "      <td>Badakhshan</td>\n",
       "      <td>1</td>\n",
       "      <td>Afghanistan</td>\n",
       "    </tr>\n",
       "    <tr>\n",
       "      <th>1</th>\n",
       "      <td>273</td>\n",
       "      <td>Badghis</td>\n",
       "      <td>1</td>\n",
       "      <td>Afghanistan</td>\n",
       "    </tr>\n",
       "  </tbody>\n",
       "</table>\n",
       "</div>"
      ],
      "text/plain": [
       "   adm1_code   adm1_name  adm0_code country_name\n",
       "0        272  Badakhshan          1  Afghanistan\n",
       "1        273     Badghis          1  Afghanistan"
      ]
     },
     "execution_count": 231,
     "metadata": {},
     "output_type": "execute_result"
    }
   ],
   "source": [
    "adm1 = pd.read_csv('https://raw.githubusercontent.com/GFDRR/thinkhazardmethods/master/source/download/ADM1_TH.csv',sep=';')\n",
    "adm1.columns = ['adm1_code','adm1_name','adm0_code','country_name']\n",
    "adm1.head(2)"
   ]
  },
  {
   "cell_type": "code",
   "execution_count": 233,
   "metadata": {},
   "outputs": [
    {
     "data": {
      "text/html": [
       "<div>\n",
       "<style scoped>\n",
       "    .dataframe tbody tr th:only-of-type {\n",
       "        vertical-align: middle;\n",
       "    }\n",
       "\n",
       "    .dataframe tbody tr th {\n",
       "        vertical-align: top;\n",
       "    }\n",
       "\n",
       "    .dataframe thead th {\n",
       "        text-align: right;\n",
       "    }\n",
       "</style>\n",
       "<table border=\"1\" class=\"dataframe\">\n",
       "  <thead>\n",
       "    <tr style=\"text-align: right;\">\n",
       "      <th></th>\n",
       "      <th>adm2_code</th>\n",
       "      <th>adm2_name</th>\n",
       "      <th>adm1_code</th>\n",
       "      <th>adm1_name</th>\n",
       "      <th>adm0_code</th>\n",
       "      <th>country_name</th>\n",
       "    </tr>\n",
       "  </thead>\n",
       "  <tbody>\n",
       "    <tr>\n",
       "      <th>0</th>\n",
       "      <td>487</td>\n",
       "      <td>Aghdash</td>\n",
       "      <td>147298</td>\n",
       "      <td>Aran</td>\n",
       "      <td>19</td>\n",
       "      <td>Azerbaijan</td>\n",
       "    </tr>\n",
       "    <tr>\n",
       "      <th>1</th>\n",
       "      <td>488</td>\n",
       "      <td>Aghdam</td>\n",
       "      <td>147306</td>\n",
       "      <td>Yukhari Garabakh</td>\n",
       "      <td>19</td>\n",
       "      <td>Azerbaijan</td>\n",
       "    </tr>\n",
       "  </tbody>\n",
       "</table>\n",
       "</div>"
      ],
      "text/plain": [
       "   adm2_code adm2_name  adm1_code         adm1_name  adm0_code country_name\n",
       "0        487   Aghdash     147298              Aran         19   Azerbaijan\n",
       "1        488    Aghdam     147306  Yukhari Garabakh         19   Azerbaijan"
      ]
     },
     "execution_count": 233,
     "metadata": {},
     "output_type": "execute_result"
    }
   ],
   "source": [
    "adm2 = pd.read_csv('https://raw.githubusercontent.com/GFDRR/thinkhazardmethods/master/source/download/ADM2_TH.csv',sep=';')\n",
    "adm2.columns = ['adm2_code','adm2_name','adm1_code','adm1_name','adm0_code','country_name']\n",
    "adm2.head(2)"
   ]
  },
  {
   "cell_type": "code",
   "execution_count": 234,
   "metadata": {},
   "outputs": [
    {
     "data": {
      "text/plain": [
       "(38229, 6)"
      ]
     },
     "execution_count": 234,
     "metadata": {},
     "output_type": "execute_result"
    }
   ],
   "source": [
    "adm2.shape"
   ]
  },
  {
   "cell_type": "code",
   "execution_count": 245,
   "metadata": {},
   "outputs": [],
   "source": [
    "\n",
    "th=thinkHazard()"
   ]
  },
  {
   "cell_type": "code",
   "execution_count": 246,
   "metadata": {},
   "outputs": [
    {
     "data": {
      "text/html": [
       "<div>\n",
       "<style scoped>\n",
       "    .dataframe tbody tr th:only-of-type {\n",
       "        vertical-align: middle;\n",
       "    }\n",
       "\n",
       "    .dataframe tbody tr th {\n",
       "        vertical-align: top;\n",
       "    }\n",
       "\n",
       "    .dataframe thead th {\n",
       "        text-align: right;\n",
       "    }\n",
       "</style>\n",
       "<table border=\"1\" class=\"dataframe\">\n",
       "  <thead>\n",
       "    <tr style=\"text-align: right;\">\n",
       "      <th></th>\n",
       "      <th>adm2_code</th>\n",
       "      <th>adm2_name</th>\n",
       "      <th>adm1_code</th>\n",
       "      <th>adm1_name</th>\n",
       "      <th>adm0_code</th>\n",
       "      <th>country_name</th>\n",
       "    </tr>\n",
       "  </thead>\n",
       "  <tbody>\n",
       "    <tr>\n",
       "      <th>0</th>\n",
       "      <td>ADM2_CODE</td>\n",
       "      <td>ADM2_NAME</td>\n",
       "      <td>ADM1_CODE</td>\n",
       "      <td>ADM1_NAME</td>\n",
       "      <td>ADM0_CODE</td>\n",
       "      <td>ADM0_NAME</td>\n",
       "    </tr>\n",
       "    <tr>\n",
       "      <th>1</th>\n",
       "      <td>487</td>\n",
       "      <td>Aghdash</td>\n",
       "      <td>147298</td>\n",
       "      <td>Aran</td>\n",
       "      <td>19</td>\n",
       "      <td>Azerbaijan</td>\n",
       "    </tr>\n",
       "    <tr>\n",
       "      <th>2</th>\n",
       "      <td>488</td>\n",
       "      <td>Aghdam</td>\n",
       "      <td>147306</td>\n",
       "      <td>Yukhari Garabakh</td>\n",
       "      <td>19</td>\n",
       "      <td>Azerbaijan</td>\n",
       "    </tr>\n",
       "    <tr>\n",
       "      <th>3</th>\n",
       "      <td>489</td>\n",
       "      <td>Agdjabedi</td>\n",
       "      <td>147298</td>\n",
       "      <td>Aran</td>\n",
       "      <td>19</td>\n",
       "      <td>Azerbaijan</td>\n",
       "    </tr>\n",
       "    <tr>\n",
       "      <th>4</th>\n",
       "      <td>490</td>\n",
       "      <td>Aghstafa</td>\n",
       "      <td>147300</td>\n",
       "      <td>Ganja-Gazakh</td>\n",
       "      <td>19</td>\n",
       "      <td>Azerbaijan</td>\n",
       "    </tr>\n",
       "    <tr>\n",
       "      <th>...</th>\n",
       "      <td>...</td>\n",
       "      <td>...</td>\n",
       "      <td>...</td>\n",
       "      <td>...</td>\n",
       "      <td>...</td>\n",
       "      <td>...</td>\n",
       "    </tr>\n",
       "    <tr>\n",
       "      <th>38225</th>\n",
       "      <td>191421</td>\n",
       "      <td>Isoko North</td>\n",
       "      <td>2218</td>\n",
       "      <td>Delta</td>\n",
       "      <td>182</td>\n",
       "      <td>Nigeria</td>\n",
       "    </tr>\n",
       "    <tr>\n",
       "      <th>38226</th>\n",
       "      <td>191422</td>\n",
       "      <td>Lavun</td>\n",
       "      <td>2231</td>\n",
       "      <td>Niger</td>\n",
       "      <td>182</td>\n",
       "      <td>Nigeria</td>\n",
       "    </tr>\n",
       "    <tr>\n",
       "      <th>38227</th>\n",
       "      <td>191423</td>\n",
       "      <td>Bade</td>\n",
       "      <td>2240</td>\n",
       "      <td>Yobe</td>\n",
       "      <td>182</td>\n",
       "      <td>Nigeria</td>\n",
       "    </tr>\n",
       "    <tr>\n",
       "      <th>38228</th>\n",
       "      <td>191424</td>\n",
       "      <td>Maru</td>\n",
       "      <td>65710</td>\n",
       "      <td>Zamfara</td>\n",
       "      <td>182</td>\n",
       "      <td>Nigeria</td>\n",
       "    </tr>\n",
       "    <tr>\n",
       "      <th>38229</th>\n",
       "      <td>191425</td>\n",
       "      <td>Oron</td>\n",
       "      <td>2212</td>\n",
       "      <td>Akwa Ibom</td>\n",
       "      <td>182</td>\n",
       "      <td>Nigeria</td>\n",
       "    </tr>\n",
       "  </tbody>\n",
       "</table>\n",
       "<p>38230 rows × 6 columns</p>\n",
       "</div>"
      ],
      "text/plain": [
       "       adm2_code    adm2_name  adm1_code         adm1_name  adm0_code  \\\n",
       "0      ADM2_CODE    ADM2_NAME  ADM1_CODE         ADM1_NAME  ADM0_CODE   \n",
       "1            487      Aghdash     147298              Aran         19   \n",
       "2            488       Aghdam     147306  Yukhari Garabakh         19   \n",
       "3            489    Agdjabedi     147298              Aran         19   \n",
       "4            490     Aghstafa     147300      Ganja-Gazakh         19   \n",
       "...          ...          ...        ...               ...        ...   \n",
       "38225     191421  Isoko North       2218             Delta        182   \n",
       "38226     191422        Lavun       2231             Niger        182   \n",
       "38227     191423         Bade       2240              Yobe        182   \n",
       "38228     191424         Maru      65710           Zamfara        182   \n",
       "38229     191425         Oron       2212         Akwa Ibom        182   \n",
       "\n",
       "      country_name  \n",
       "0        ADM0_NAME  \n",
       "1       Azerbaijan  \n",
       "2       Azerbaijan  \n",
       "3       Azerbaijan  \n",
       "4       Azerbaijan  \n",
       "...            ...  \n",
       "38225      Nigeria  \n",
       "38226      Nigeria  \n",
       "38227      Nigeria  \n",
       "38228      Nigeria  \n",
       "38229      Nigeria  \n",
       "\n",
       "[38230 rows x 6 columns]"
      ]
     },
     "execution_count": 246,
     "metadata": {},
     "output_type": "execute_result"
    }
   ],
   "source": [
    "th.adm2"
   ]
  },
  {
   "cell_type": "code",
   "execution_count": 216,
   "metadata": {},
   "outputs": [
    {
     "name": "stdout",
     "output_type": "stream",
     "text": [
      "query:  http://thinkhazard.org/en/report/188.json\n"
     ]
    },
    {
     "data": {
      "text/html": [
       "<div>\n",
       "<style scoped>\n",
       "    .dataframe tbody tr th:only-of-type {\n",
       "        vertical-align: middle;\n",
       "    }\n",
       "\n",
       "    .dataframe tbody tr th {\n",
       "        vertical-align: top;\n",
       "    }\n",
       "\n",
       "    .dataframe thead th {\n",
       "        text-align: right;\n",
       "    }\n",
       "</style>\n",
       "<table border=\"1\" class=\"dataframe\">\n",
       "  <thead>\n",
       "    <tr style=\"text-align: right;\">\n",
       "      <th></th>\n",
       "      <th>Hazard</th>\n",
       "      <th>Level</th>\n",
       "    </tr>\n",
       "  </thead>\n",
       "  <tbody>\n",
       "    <tr>\n",
       "      <th>0</th>\n",
       "      <td>River flood</td>\n",
       "      <td>High</td>\n",
       "    </tr>\n",
       "    <tr>\n",
       "      <th>1</th>\n",
       "      <td>Urban flood</td>\n",
       "      <td>High</td>\n",
       "    </tr>\n",
       "    <tr>\n",
       "      <th>2</th>\n",
       "      <td>Coastal flood</td>\n",
       "      <td>High</td>\n",
       "    </tr>\n",
       "    <tr>\n",
       "      <th>3</th>\n",
       "      <td>Earthquake</td>\n",
       "      <td>High</td>\n",
       "    </tr>\n",
       "    <tr>\n",
       "      <th>4</th>\n",
       "      <td>Landslide</td>\n",
       "      <td>High</td>\n",
       "    </tr>\n",
       "    <tr>\n",
       "      <th>5</th>\n",
       "      <td>Tsunami</td>\n",
       "      <td>Medium</td>\n",
       "    </tr>\n",
       "    <tr>\n",
       "      <th>6</th>\n",
       "      <td>Volcano</td>\n",
       "      <td>Low</td>\n",
       "    </tr>\n",
       "    <tr>\n",
       "      <th>7</th>\n",
       "      <td>Cyclone</td>\n",
       "      <td>High</td>\n",
       "    </tr>\n",
       "    <tr>\n",
       "      <th>8</th>\n",
       "      <td>Water scarcity</td>\n",
       "      <td>High</td>\n",
       "    </tr>\n",
       "    <tr>\n",
       "      <th>9</th>\n",
       "      <td>Extreme heat</td>\n",
       "      <td>High</td>\n",
       "    </tr>\n",
       "    <tr>\n",
       "      <th>10</th>\n",
       "      <td>Wildfire</td>\n",
       "      <td>High</td>\n",
       "    </tr>\n",
       "  </tbody>\n",
       "</table>\n",
       "</div>"
      ],
      "text/plain": [
       "            Hazard   Level\n",
       "0      River flood    High\n",
       "1      Urban flood    High\n",
       "2    Coastal flood    High\n",
       "3       Earthquake    High\n",
       "4        Landslide    High\n",
       "5          Tsunami  Medium\n",
       "6          Volcano     Low\n",
       "7          Cyclone    High\n",
       "8   Water scarcity    High\n",
       "9     Extreme heat    High\n",
       "10        Wildfire    High"
      ]
     },
     "execution_count": 216,
     "metadata": {},
     "output_type": "execute_result"
    }
   ],
   "source": [
    "th.hazard_rankings(188) # Pakistan"
   ]
  },
  {
   "cell_type": "code",
   "execution_count": 202,
   "metadata": {},
   "outputs": [
    {
     "name": "stdout",
     "output_type": "stream",
     "text": [
      "query:  http://thinkhazard.org/en/report/203.json\n"
     ]
    },
    {
     "data": {
      "text/html": [
       "<div>\n",
       "<style scoped>\n",
       "    .dataframe tbody tr th:only-of-type {\n",
       "        vertical-align: middle;\n",
       "    }\n",
       "\n",
       "    .dataframe tbody tr th {\n",
       "        vertical-align: top;\n",
       "    }\n",
       "\n",
       "    .dataframe thead th {\n",
       "        text-align: right;\n",
       "    }\n",
       "</style>\n",
       "<table border=\"1\" class=\"dataframe\">\n",
       "  <thead>\n",
       "    <tr style=\"text-align: right;\">\n",
       "      <th></th>\n",
       "      <th>Hazard</th>\n",
       "      <th>Level</th>\n",
       "    </tr>\n",
       "  </thead>\n",
       "  <tbody>\n",
       "    <tr>\n",
       "      <th>0</th>\n",
       "      <td>River flood</td>\n",
       "      <td>High</td>\n",
       "    </tr>\n",
       "    <tr>\n",
       "      <th>1</th>\n",
       "      <td>Urban flood</td>\n",
       "      <td>High</td>\n",
       "    </tr>\n",
       "    <tr>\n",
       "      <th>2</th>\n",
       "      <td>Coastal flood</td>\n",
       "      <td>No Data</td>\n",
       "    </tr>\n",
       "    <tr>\n",
       "      <th>3</th>\n",
       "      <td>Earthquake</td>\n",
       "      <td>Medium</td>\n",
       "    </tr>\n",
       "    <tr>\n",
       "      <th>4</th>\n",
       "      <td>Landslide</td>\n",
       "      <td>High</td>\n",
       "    </tr>\n",
       "    <tr>\n",
       "      <th>5</th>\n",
       "      <td>Tsunami</td>\n",
       "      <td>No Data</td>\n",
       "    </tr>\n",
       "    <tr>\n",
       "      <th>6</th>\n",
       "      <td>Volcano</td>\n",
       "      <td>No Data</td>\n",
       "    </tr>\n",
       "    <tr>\n",
       "      <th>7</th>\n",
       "      <td>Cyclone</td>\n",
       "      <td>No Data</td>\n",
       "    </tr>\n",
       "    <tr>\n",
       "      <th>8</th>\n",
       "      <td>Water scarcity</td>\n",
       "      <td>Medium</td>\n",
       "    </tr>\n",
       "    <tr>\n",
       "      <th>9</th>\n",
       "      <td>Extreme heat</td>\n",
       "      <td>Medium</td>\n",
       "    </tr>\n",
       "    <tr>\n",
       "      <th>10</th>\n",
       "      <td>Wildfire</td>\n",
       "      <td>High</td>\n",
       "    </tr>\n",
       "  </tbody>\n",
       "</table>\n",
       "</div>"
      ],
      "text/plain": [
       "            Hazard    Level\n",
       "0      River flood     High\n",
       "1      Urban flood     High\n",
       "2    Coastal flood  No Data\n",
       "3       Earthquake   Medium\n",
       "4        Landslide     High\n",
       "5          Tsunami  No Data\n",
       "6          Volcano  No Data\n",
       "7          Cyclone  No Data\n",
       "8   Water scarcity   Medium\n",
       "9     Extreme heat   Medium\n",
       "10        Wildfire     High"
      ]
     },
     "execution_count": 202,
     "metadata": {},
     "output_type": "execute_result"
    }
   ],
   "source": [
    "th.hazard_rankings(203) # Romania"
   ]
  },
  {
   "cell_type": "code",
   "execution_count": 203,
   "metadata": {},
   "outputs": [
    {
     "data": {
      "text/plain": [
       "('River flood',\n",
       " 'High',\n",
       " \"In the area you have selected name of location river flood hazard is classified as **high** based on modeled flood information currently available to this tool. This means that potentially damaging and life-threatening river floods are expected to occur at least once in the next 10 years. **Project planning decisions, project design, and construction methods must take into account the level of river flood hazard**. Surface flood hazard in urban and rural areas is not included in this hazard classification, and may also be possible in this location. Please see 'Urban Flood' for consideration of urban surface and river flooding.The following is a list of recommendations that could be followed in different phases of the project to help reduce the risk to your project. Please note that these recommendations are generic and not project-specific.\\r\\n\")"
      ]
     },
     "execution_count": 203,
     "metadata": {},
     "output_type": "execute_result"
    }
   ],
   "source": [
    "th.hazard_recommendation(188,'FL')  # flood in Pakistan"
   ]
  },
  {
   "cell_type": "code",
   "execution_count": 205,
   "metadata": {},
   "outputs": [
    {
     "name": "stdout",
     "output_type": "stream",
     "text": [
      "query:  http://thinkhazard.org/en/report/188.json\n",
      "query:  http://thinkhazard.org/en/report/115.json\n",
      "query:  http://thinkhazard.org/en/report/175.json\n",
      "query:  http://thinkhazard.org/en/report/23.json\n",
      "query:  http://thinkhazard.org/en/report/231.json\n"
     ]
    },
    {
     "data": {
      "text/html": [
       "<div>\n",
       "<style scoped>\n",
       "    .dataframe tbody tr th:only-of-type {\n",
       "        vertical-align: middle;\n",
       "    }\n",
       "\n",
       "    .dataframe tbody tr th {\n",
       "        vertical-align: top;\n",
       "    }\n",
       "\n",
       "    .dataframe thead th {\n",
       "        text-align: right;\n",
       "    }\n",
       "</style>\n",
       "<table border=\"1\" class=\"dataframe\">\n",
       "  <thead>\n",
       "    <tr style=\"text-align: right;\">\n",
       "      <th></th>\n",
       "      <th>Country code</th>\n",
       "      <th>Country name</th>\n",
       "      <th>Hazard level</th>\n",
       "    </tr>\n",
       "  </thead>\n",
       "  <tbody>\n",
       "    <tr>\n",
       "      <th>0</th>\n",
       "      <td>188</td>\n",
       "      <td>Pakistan</td>\n",
       "      <td>High</td>\n",
       "    </tr>\n",
       "    <tr>\n",
       "      <th>1</th>\n",
       "      <td>115</td>\n",
       "      <td>India</td>\n",
       "      <td>High</td>\n",
       "    </tr>\n",
       "    <tr>\n",
       "      <th>2</th>\n",
       "      <td>175</td>\n",
       "      <td>Nepal</td>\n",
       "      <td>Medium</td>\n",
       "    </tr>\n",
       "    <tr>\n",
       "      <th>3</th>\n",
       "      <td>23</td>\n",
       "      <td>Bangladesh</td>\n",
       "      <td>Medium</td>\n",
       "    </tr>\n",
       "    <tr>\n",
       "      <th>4</th>\n",
       "      <td>231</td>\n",
       "      <td>Sri Lanka</td>\n",
       "      <td>Very low</td>\n",
       "    </tr>\n",
       "  </tbody>\n",
       "</table>\n",
       "</div>"
      ],
      "text/plain": [
       "   Country code Country name Hazard level\n",
       "0           188     Pakistan         High\n",
       "1           115        India         High\n",
       "2           175        Nepal       Medium\n",
       "3            23   Bangladesh       Medium\n",
       "4           231    Sri Lanka     Very low"
      ]
     },
     "execution_count": 205,
     "metadata": {},
     "output_type": "execute_result"
    }
   ],
   "source": [
    "th.query([188,115,175,23,231],'Earthquake') # Earthquake in South Asian countries"
   ]
  }
 ],
 "metadata": {
  "kernelspec": {
   "display_name": "GPD3",
   "language": "python",
   "name": "gpd3"
  },
  "language_info": {
   "codemirror_mode": {
    "name": "ipython",
    "version": 3
   },
   "file_extension": ".py",
   "mimetype": "text/x-python",
   "name": "python",
   "nbconvert_exporter": "python",
   "pygments_lexer": "ipython3",
   "version": "3.7.7"
  }
 },
 "nbformat": 4,
 "nbformat_minor": 4
}
