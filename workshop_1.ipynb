{
 "cells": [
  {
   "cell_type": "code",
   "execution_count": 177,
   "metadata": {},
   "outputs": [],
   "source": [
    "import numpy as np\n",
    "import pandas as pd\n",
    "from sklearn.tree import DecisionTreeClassifier, export_graphviz\n",
    "from sklearn.ensemble import RandomForestClassifier\n",
    "from sklearn.model_selection import train_test_split\n",
    "from sklearn.metrics import confusion_matrix"
   ]
  },
  {
   "cell_type": "code",
   "execution_count": 270,
   "metadata": {},
   "outputs": [],
   "source": [
    "df = pd.read_csv('survey_responses.csv')"
   ]
  },
  {
   "cell_type": "markdown",
   "metadata": {},
   "source": [
    "### 1. Load and prepare the data"
   ]
  },
  {
   "cell_type": "code",
   "execution_count": 271,
   "metadata": {},
   "outputs": [
    {
     "data": {
      "text/html": [
       "<div>\n",
       "<style scoped>\n",
       "    .dataframe tbody tr th:only-of-type {\n",
       "        vertical-align: middle;\n",
       "    }\n",
       "\n",
       "    .dataframe tbody tr th {\n",
       "        vertical-align: top;\n",
       "    }\n",
       "\n",
       "    .dataframe thead th {\n",
       "        text-align: right;\n",
       "    }\n",
       "</style>\n",
       "<table border=\"1\" class=\"dataframe\">\n",
       "  <thead>\n",
       "    <tr style=\"text-align: right;\">\n",
       "      <th></th>\n",
       "      <th>gender</th>\n",
       "      <th>household_type</th>\n",
       "      <th>state</th>\n",
       "      <th>favorite_food</th>\n",
       "      <th>exercise_regime</th>\n",
       "      <th>mode_of_travel</th>\n",
       "      <th>arrival_time</th>\n",
       "      <th>music_choice</th>\n",
       "      <th>purchase_history</th>\n",
       "      <th>age</th>\n",
       "    </tr>\n",
       "  </thead>\n",
       "  <tbody>\n",
       "    <tr>\n",
       "      <th>0</th>\n",
       "      <td>Male</td>\n",
       "      <td>I live with my family.</td>\n",
       "      <td>DC</td>\n",
       "      <td>Steak</td>\n",
       "      <td>Keep fit through yoga and jogging.</td>\n",
       "      <td>Walk or bike</td>\n",
       "      <td>9:00:00 AM</td>\n",
       "      <td>Heavy metal / rock</td>\n",
       "      <td>NaN</td>\n",
       "      <td>NaN</td>\n",
       "    </tr>\n",
       "    <tr>\n",
       "      <th>1</th>\n",
       "      <td>Female</td>\n",
       "      <td>I live by myself or with housemates.</td>\n",
       "      <td>DC</td>\n",
       "      <td>Mexican</td>\n",
       "      <td>Keep fit through jogging or gym.</td>\n",
       "      <td>Walk or bike</td>\n",
       "      <td>7:30:00 AM</td>\n",
       "      <td>Classical music</td>\n",
       "      <td>Theater tickets</td>\n",
       "      <td>35-44</td>\n",
       "    </tr>\n",
       "    <tr>\n",
       "      <th>2</th>\n",
       "      <td>Male</td>\n",
       "      <td>I live by myself or with housemates.</td>\n",
       "      <td>DC</td>\n",
       "      <td>Home cooking</td>\n",
       "      <td>Keep fit through jogging or gym.</td>\n",
       "      <td>Train</td>\n",
       "      <td>9:30:00 AM</td>\n",
       "      <td>Classical music</td>\n",
       "      <td>Theater tickets</td>\n",
       "      <td>25-34</td>\n",
       "    </tr>\n",
       "    <tr>\n",
       "      <th>3</th>\n",
       "      <td>Male</td>\n",
       "      <td>I live with my family.</td>\n",
       "      <td>DC</td>\n",
       "      <td>Home cooking</td>\n",
       "      <td>Keep fit through jogging or gym.</td>\n",
       "      <td>Walk or bike</td>\n",
       "      <td>9:00:00 AM</td>\n",
       "      <td>Classical music</td>\n",
       "      <td>Gardening or home improvement gear, Bluetooth ...</td>\n",
       "      <td>35-44</td>\n",
       "    </tr>\n",
       "    <tr>\n",
       "      <th>4</th>\n",
       "      <td>Female</td>\n",
       "      <td>I live by myself or with housemates.</td>\n",
       "      <td>DC</td>\n",
       "      <td>Home cooking</td>\n",
       "      <td>Keep fit through jogging or gym.</td>\n",
       "      <td>Walk or bike</td>\n",
       "      <td>8:30:00 AM</td>\n",
       "      <td>Classical music</td>\n",
       "      <td>Gardening or home improvement gear, Bluetooth ...</td>\n",
       "      <td>25-34</td>\n",
       "    </tr>\n",
       "  </tbody>\n",
       "</table>\n",
       "</div>"
      ],
      "text/plain": [
       "   gender                        household_type state favorite_food  \\\n",
       "0    Male                I live with my family.    DC         Steak   \n",
       "1  Female  I live by myself or with housemates.    DC       Mexican   \n",
       "2    Male  I live by myself or with housemates.    DC  Home cooking   \n",
       "3    Male                I live with my family.    DC  Home cooking   \n",
       "4  Female  I live by myself or with housemates.    DC  Home cooking   \n",
       "\n",
       "                      exercise_regime mode_of_travel arrival_time  \\\n",
       "0  Keep fit through yoga and jogging.   Walk or bike   9:00:00 AM   \n",
       "1    Keep fit through jogging or gym.   Walk or bike   7:30:00 AM   \n",
       "2    Keep fit through jogging or gym.          Train   9:30:00 AM   \n",
       "3    Keep fit through jogging or gym.   Walk or bike   9:00:00 AM   \n",
       "4    Keep fit through jogging or gym.   Walk or bike   8:30:00 AM   \n",
       "\n",
       "         music_choice                                   purchase_history  \\\n",
       "0  Heavy metal / rock                                                NaN   \n",
       "1     Classical music                                    Theater tickets   \n",
       "2     Classical music                                    Theater tickets   \n",
       "3     Classical music  Gardening or home improvement gear, Bluetooth ...   \n",
       "4     Classical music  Gardening or home improvement gear, Bluetooth ...   \n",
       "\n",
       "     age  \n",
       "0    NaN  \n",
       "1  35-44  \n",
       "2  25-34  \n",
       "3  35-44  \n",
       "4  25-34  "
      ]
     },
     "execution_count": 271,
     "metadata": {},
     "output_type": "execute_result"
    }
   ],
   "source": [
    "df.columns = ['gender','household_type','state','favorite_food','exercise_regime','mode_of_travel','arrival_time','music_choice','purchase_history','age']\n",
    "df.head()"
   ]
  },
  {
   "cell_type": "code",
   "execution_count": 272,
   "metadata": {},
   "outputs": [],
   "source": [
    "df.purchase_history = df.purchase_history.astype(str)\n",
    "df.purchase_history = [cell.split(',') for cell in df.purchase_history]"
   ]
  },
  {
   "cell_type": "code",
   "execution_count": 273,
   "metadata": {},
   "outputs": [],
   "source": [
    "items = ['Theater tickets','Yoga mat','Bluetooth speaker / headphones',\n",
    "             'Gardening or home improvement gear',' Presents for my kids']"
   ]
  },
  {
   "cell_type": "code",
   "execution_count": 274,
   "metadata": {},
   "outputs": [],
   "source": [
    "for item in items:\n",
    "    df[item] = [item in cell for cell in df.purchase_history]\n",
    "    df[item] = df[item].map({False:0,True:1})"
   ]
  },
  {
   "cell_type": "markdown",
   "metadata": {},
   "source": [
    "### 2. Create a machine-readable set of features\n",
    "This includes transforming categorical variables into dummies and taking the mid-point of the age ranges."
   ]
  },
  {
   "cell_type": "code",
   "execution_count": 275,
   "metadata": {},
   "outputs": [],
   "source": [
    "X = pd.DataFrame({'age': df.age.map({'25-34':29.5,'35-44':39})})"
   ]
  },
  {
   "cell_type": "code",
   "execution_count": 276,
   "metadata": {},
   "outputs": [],
   "source": [
    "X.age.fillna(X.age.mean(),inplace=True)"
   ]
  },
  {
   "cell_type": "code",
   "execution_count": 277,
   "metadata": {},
   "outputs": [],
   "source": [
    "# Transform the following to dummies: gender, household_type, state, food, exercise\n",
    "for feature in ['gender','household_type','state','favorite_food','exercise_regime']:\n",
    "    a = pd.get_dummies(df[feature])\n",
    "    X = pd.concat([X,a], axis=1)"
   ]
  },
  {
   "cell_type": "code",
   "execution_count": 278,
   "metadata": {},
   "outputs": [
    {
     "data": {
      "text/html": [
       "<div>\n",
       "<style scoped>\n",
       "    .dataframe tbody tr th:only-of-type {\n",
       "        vertical-align: middle;\n",
       "    }\n",
       "\n",
       "    .dataframe tbody tr th {\n",
       "        vertical-align: top;\n",
       "    }\n",
       "\n",
       "    .dataframe thead th {\n",
       "        text-align: right;\n",
       "    }\n",
       "</style>\n",
       "<table border=\"1\" class=\"dataframe\">\n",
       "  <thead>\n",
       "    <tr style=\"text-align: right;\">\n",
       "      <th></th>\n",
       "      <th>age</th>\n",
       "      <th>Female</th>\n",
       "      <th>Male</th>\n",
       "      <th>I live by myself or with housemates.</th>\n",
       "      <th>I live with my family.</th>\n",
       "      <th>DC</th>\n",
       "      <th>Maryland</th>\n",
       "      <th>Virginia</th>\n",
       "      <th>Home cooking</th>\n",
       "      <th>Mexican</th>\n",
       "      <th>...</th>\n",
       "      <th>Vegetarian</th>\n",
       "      <th>I play team sports / run races.</th>\n",
       "      <th>Keep fit through jogging or gym.</th>\n",
       "      <th>Keep fit through yoga and jogging.</th>\n",
       "      <th>Netflix is my most strenuous exercise.</th>\n",
       "      <th>Theater tickets</th>\n",
       "      <th>Yoga mat</th>\n",
       "      <th>Bluetooth speaker / headphones</th>\n",
       "      <th>Gardening or home improvement gear</th>\n",
       "      <th>Presents for my kids</th>\n",
       "    </tr>\n",
       "  </thead>\n",
       "  <tbody>\n",
       "    <tr>\n",
       "      <th>0</th>\n",
       "      <td>34.25</td>\n",
       "      <td>0</td>\n",
       "      <td>1</td>\n",
       "      <td>0</td>\n",
       "      <td>1</td>\n",
       "      <td>1</td>\n",
       "      <td>0</td>\n",
       "      <td>0</td>\n",
       "      <td>0</td>\n",
       "      <td>0</td>\n",
       "      <td>...</td>\n",
       "      <td>0</td>\n",
       "      <td>0</td>\n",
       "      <td>0</td>\n",
       "      <td>1</td>\n",
       "      <td>0</td>\n",
       "      <td>0</td>\n",
       "      <td>0</td>\n",
       "      <td>0</td>\n",
       "      <td>0</td>\n",
       "      <td>0</td>\n",
       "    </tr>\n",
       "    <tr>\n",
       "      <th>1</th>\n",
       "      <td>39.00</td>\n",
       "      <td>1</td>\n",
       "      <td>0</td>\n",
       "      <td>1</td>\n",
       "      <td>0</td>\n",
       "      <td>1</td>\n",
       "      <td>0</td>\n",
       "      <td>0</td>\n",
       "      <td>0</td>\n",
       "      <td>1</td>\n",
       "      <td>...</td>\n",
       "      <td>0</td>\n",
       "      <td>0</td>\n",
       "      <td>1</td>\n",
       "      <td>0</td>\n",
       "      <td>0</td>\n",
       "      <td>1</td>\n",
       "      <td>0</td>\n",
       "      <td>0</td>\n",
       "      <td>0</td>\n",
       "      <td>0</td>\n",
       "    </tr>\n",
       "    <tr>\n",
       "      <th>2</th>\n",
       "      <td>29.50</td>\n",
       "      <td>0</td>\n",
       "      <td>1</td>\n",
       "      <td>1</td>\n",
       "      <td>0</td>\n",
       "      <td>1</td>\n",
       "      <td>0</td>\n",
       "      <td>0</td>\n",
       "      <td>1</td>\n",
       "      <td>0</td>\n",
       "      <td>...</td>\n",
       "      <td>0</td>\n",
       "      <td>0</td>\n",
       "      <td>1</td>\n",
       "      <td>0</td>\n",
       "      <td>0</td>\n",
       "      <td>1</td>\n",
       "      <td>0</td>\n",
       "      <td>0</td>\n",
       "      <td>0</td>\n",
       "      <td>0</td>\n",
       "    </tr>\n",
       "    <tr>\n",
       "      <th>3</th>\n",
       "      <td>39.00</td>\n",
       "      <td>0</td>\n",
       "      <td>1</td>\n",
       "      <td>0</td>\n",
       "      <td>1</td>\n",
       "      <td>1</td>\n",
       "      <td>0</td>\n",
       "      <td>0</td>\n",
       "      <td>1</td>\n",
       "      <td>0</td>\n",
       "      <td>...</td>\n",
       "      <td>0</td>\n",
       "      <td>0</td>\n",
       "      <td>1</td>\n",
       "      <td>0</td>\n",
       "      <td>0</td>\n",
       "      <td>0</td>\n",
       "      <td>0</td>\n",
       "      <td>0</td>\n",
       "      <td>1</td>\n",
       "      <td>0</td>\n",
       "    </tr>\n",
       "    <tr>\n",
       "      <th>4</th>\n",
       "      <td>29.50</td>\n",
       "      <td>1</td>\n",
       "      <td>0</td>\n",
       "      <td>1</td>\n",
       "      <td>0</td>\n",
       "      <td>1</td>\n",
       "      <td>0</td>\n",
       "      <td>0</td>\n",
       "      <td>1</td>\n",
       "      <td>0</td>\n",
       "      <td>...</td>\n",
       "      <td>0</td>\n",
       "      <td>0</td>\n",
       "      <td>1</td>\n",
       "      <td>0</td>\n",
       "      <td>0</td>\n",
       "      <td>0</td>\n",
       "      <td>0</td>\n",
       "      <td>0</td>\n",
       "      <td>1</td>\n",
       "      <td>0</td>\n",
       "    </tr>\n",
       "  </tbody>\n",
       "</table>\n",
       "<p>5 rows × 22 columns</p>\n",
       "</div>"
      ],
      "text/plain": [
       "     age  Female  Male  I live by myself or with housemates.  \\\n",
       "0  34.25       0     1                                     0   \n",
       "1  39.00       1     0                                     1   \n",
       "2  29.50       0     1                                     1   \n",
       "3  39.00       0     1                                     0   \n",
       "4  29.50       1     0                                     1   \n",
       "\n",
       "   I live with my family.  DC  Maryland  Virginia  Home cooking  Mexican  \\\n",
       "0                       1   1         0         0             0        0   \n",
       "1                       0   1         0         0             0        1   \n",
       "2                       0   1         0         0             1        0   \n",
       "3                       1   1         0         0             1        0   \n",
       "4                       0   1         0         0             1        0   \n",
       "\n",
       "           ...            Vegetarian  I play team sports / run races.  \\\n",
       "0          ...                     0                                0   \n",
       "1          ...                     0                                0   \n",
       "2          ...                     0                                0   \n",
       "3          ...                     0                                0   \n",
       "4          ...                     0                                0   \n",
       "\n",
       "   Keep fit through jogging or gym.  Keep fit through yoga and jogging.  \\\n",
       "0                                 0                                   1   \n",
       "1                                 1                                   0   \n",
       "2                                 1                                   0   \n",
       "3                                 1                                   0   \n",
       "4                                 1                                   0   \n",
       "\n",
       "   Netflix is my most strenuous exercise.  Theater tickets  Yoga mat  \\\n",
       "0                                       0                0         0   \n",
       "1                                       0                1         0   \n",
       "2                                       0                1         0   \n",
       "3                                       0                0         0   \n",
       "4                                       0                0         0   \n",
       "\n",
       "   Bluetooth speaker / headphones  Gardening or home improvement gear  \\\n",
       "0                               0                                   0   \n",
       "1                               0                                   0   \n",
       "2                               0                                   0   \n",
       "3                               0                                   1   \n",
       "4                               0                                   1   \n",
       "\n",
       "    Presents for my kids  \n",
       "0                      0  \n",
       "1                      0  \n",
       "2                      0  \n",
       "3                      0  \n",
       "4                      0  \n",
       "\n",
       "[5 rows x 22 columns]"
      ]
     },
     "execution_count": 278,
     "metadata": {},
     "output_type": "execute_result"
    }
   ],
   "source": [
    "X = pd.concat([X,df[items]],axis=1)\n",
    "X.head()"
   ]
  },
  {
   "cell_type": "code",
   "execution_count": 279,
   "metadata": {},
   "outputs": [
    {
     "data": {
      "text/html": [
       "<div>\n",
       "<style scoped>\n",
       "    .dataframe tbody tr th:only-of-type {\n",
       "        vertical-align: middle;\n",
       "    }\n",
       "\n",
       "    .dataframe tbody tr th {\n",
       "        vertical-align: top;\n",
       "    }\n",
       "\n",
       "    .dataframe thead th {\n",
       "        text-align: right;\n",
       "    }\n",
       "</style>\n",
       "<table border=\"1\" class=\"dataframe\">\n",
       "  <thead>\n",
       "    <tr style=\"text-align: right;\">\n",
       "      <th></th>\n",
       "      <th>Train or car</th>\n",
       "      <th>Walk or bike</th>\n",
       "    </tr>\n",
       "  </thead>\n",
       "  <tbody>\n",
       "    <tr>\n",
       "      <th>we'll denote it like this:</th>\n",
       "      <td>0</td>\n",
       "      <td>1</td>\n",
       "    </tr>\n",
       "  </tbody>\n",
       "</table>\n",
       "</div>"
      ],
      "text/plain": [
       "                            Train or car  Walk or bike\n",
       "we'll denote it like this:             0             1"
      ]
     },
     "execution_count": 279,
     "metadata": {},
     "output_type": "execute_result"
    }
   ],
   "source": [
    "y_transport = df.mode_of_travel.map({'Train':0,'Car':0,'Walk or bike':1})\n",
    "pd.DataFrame({'Train or car':0,'Walk or bike':1},index=[\"we'll denote it like this:\"])"
   ]
  },
  {
   "cell_type": "code",
   "execution_count": 281,
   "metadata": {},
   "outputs": [
    {
     "data": {
      "text/html": [
       "<div>\n",
       "<style scoped>\n",
       "    .dataframe tbody tr th:only-of-type {\n",
       "        vertical-align: middle;\n",
       "    }\n",
       "\n",
       "    .dataframe tbody tr th {\n",
       "        vertical-align: top;\n",
       "    }\n",
       "\n",
       "    .dataframe thead th {\n",
       "        text-align: right;\n",
       "    }\n",
       "</style>\n",
       "<table border=\"1\" class=\"dataframe\">\n",
       "  <thead>\n",
       "    <tr style=\"text-align: right;\">\n",
       "      <th></th>\n",
       "      <th>Classical</th>\n",
       "      <th>Heavy metal / rock</th>\n",
       "    </tr>\n",
       "  </thead>\n",
       "  <tbody>\n",
       "    <tr>\n",
       "      <th>we'll denote it like this:</th>\n",
       "      <td>0</td>\n",
       "      <td>1</td>\n",
       "    </tr>\n",
       "  </tbody>\n",
       "</table>\n",
       "</div>"
      ],
      "text/plain": [
       "                            Classical  Heavy metal / rock\n",
       "we'll denote it like this:          0                   1"
      ]
     },
     "execution_count": 281,
     "metadata": {},
     "output_type": "execute_result"
    }
   ],
   "source": [
    "y_music = df.music_choice.map({'Classical music':0,'Heavy metal / rock':1})\n",
    "pd.DataFrame({'Classical':0,'Heavy metal / rock':1},index=[\"we'll denote it like this:\"])"
   ]
  },
  {
   "cell_type": "markdown",
   "metadata": {},
   "source": [
    "### 3. Divide into training and test sets"
   ]
  },
  {
   "cell_type": "code",
   "execution_count": 309,
   "metadata": {},
   "outputs": [],
   "source": [
    "target_variable = y_music\n",
    "X_train, X_test, y_train, y_test = train_test_split(X, target_variable, test_size=0.4)"
   ]
  },
  {
   "cell_type": "code",
   "execution_count": 310,
   "metadata": {},
   "outputs": [
    {
     "name": "stdout",
     "output_type": "stream",
     "text": [
      "rows and columns in X_train: (16, 22)\n",
      "rows and columns in y_train: (16,)\n",
      "rows and columns in X_test: (12, 22)\n",
      "rows and columns in y_test: (12,)\n"
     ]
    }
   ],
   "source": [
    "print(\"rows and columns in X_train: {}\".format(X_train.shape))\n",
    "print(\"rows and columns in y_train: {}\".format(y_train.shape))\n",
    "print(\"rows and columns in X_test: {}\".format(X_test.shape))\n",
    "print(\"rows and columns in y_test: {}\".format(y_test.shape))"
   ]
  },
  {
   "cell_type": "markdown",
   "metadata": {},
   "source": [
    "### 4. Build decision tree, predict for the test set"
   ]
  },
  {
   "cell_type": "code",
   "execution_count": 311,
   "metadata": {},
   "outputs": [],
   "source": [
    "tree = DecisionTreeClassifier(max_depth=6)"
   ]
  },
  {
   "cell_type": "code",
   "execution_count": 312,
   "metadata": {},
   "outputs": [
    {
     "data": {
      "text/plain": [
       "DecisionTreeClassifier(class_weight=None, criterion='gini', max_depth=6,\n",
       "            max_features=None, max_leaf_nodes=None,\n",
       "            min_impurity_decrease=0.0, min_impurity_split=None,\n",
       "            min_samples_leaf=1, min_samples_split=2,\n",
       "            min_weight_fraction_leaf=0.0, presort=False, random_state=None,\n",
       "            splitter='best')"
      ]
     },
     "execution_count": 312,
     "metadata": {},
     "output_type": "execute_result"
    }
   ],
   "source": [
    "tree.fit(X_train,y_train)"
   ]
  },
  {
   "cell_type": "code",
   "execution_count": 318,
   "metadata": {},
   "outputs": [
    {
     "data": {
      "text/plain": [
       "RandomForestClassifier(bootstrap=True, class_weight=None, criterion='gini',\n",
       "            max_depth=None, max_features='auto', max_leaf_nodes=None,\n",
       "            min_impurity_decrease=0.0, min_impurity_split=None,\n",
       "            min_samples_leaf=1, min_samples_split=2,\n",
       "            min_weight_fraction_leaf=0.0, n_estimators=1000, n_jobs=None,\n",
       "            oob_score=False, random_state=None, verbose=0,\n",
       "            warm_start=False)"
      ]
     },
     "execution_count": 318,
     "metadata": {},
     "output_type": "execute_result"
    }
   ],
   "source": [
    "# build random forest for comparison\n",
    "\n",
    "rf = RandomForestClassifier(n_estimators=1000)\n",
    "rf.fit(X_train,y_train)\n"
   ]
  },
  {
   "cell_type": "code",
   "execution_count": 319,
   "metadata": {},
   "outputs": [],
   "source": [
    "# make predictions\n",
    "\n",
    "y_pred_tree = tree.predict(X_test)\n",
    "y_pred_rf = rf.predict(X_test)"
   ]
  },
  {
   "cell_type": "code",
   "execution_count": 320,
   "metadata": {},
   "outputs": [],
   "source": [
    "n_samples = len(y_pred_tree)"
   ]
  },
  {
   "cell_type": "code",
   "execution_count": 321,
   "metadata": {},
   "outputs": [
    {
     "name": "stdout",
     "output_type": "stream",
     "text": [
      "Decision tree predicted 9 zeros and 3 ones\n",
      "RF predicted 8 zeros and 4 ones\n"
     ]
    }
   ],
   "source": [
    "print(\"Decision tree predicted {} zeros and {} ones\".format(n_samples-sum(y_pred_tree),sum(y_pred_tree)))\n",
    "print(\"RF predicted {} zeros and {} ones\".format(n_samples-sum(y_pred_rf),sum(y_pred_rf)))"
   ]
  },
  {
   "cell_type": "markdown",
   "metadata": {},
   "source": [
    "### 5. Evaluate model performance"
   ]
  },
  {
   "cell_type": "code",
   "execution_count": 322,
   "metadata": {},
   "outputs": [
    {
     "name": "stdout",
     "output_type": "stream",
     "text": [
      "DECISION TREE - We predicted 7 right out of 12 examples. That's a 58.3 % accuracy rate.\n",
      "RANDOM FOREST - We predicted 8 right out of 12 examples. That's a 66.7 % accuracy rate.\n"
     ]
    }
   ],
   "source": [
    "n_correct_tree = sum(y_pred_tree == y_test)\n",
    "accuracy_tree = n_correct_tree / n_samples * 100\n",
    "\n",
    "n_correct_rf = sum(y_pred_rf == y_test)\n",
    "accuracy_rf = n_correct_rf / n_samples * 100\n",
    "\n",
    "print(\"DECISION TREE - We predicted {} right out of {} examples. That's a {:.1f} % accuracy rate.\".format(\n",
    "    n_correct_tree,n_samples,accuracy_tree))\n",
    "print(\"RANDOM FOREST - We predicted {} right out of {} examples. That's a {:.1f} % accuracy rate.\".format(\n",
    "    n_correct_rf,n_samples,accuracy_rf))"
   ]
  },
  {
   "cell_type": "code",
   "execution_count": 299,
   "metadata": {},
   "outputs": [
    {
     "data": {
      "text/html": [
       "<div>\n",
       "<style scoped>\n",
       "    .dataframe tbody tr th:only-of-type {\n",
       "        vertical-align: middle;\n",
       "    }\n",
       "\n",
       "    .dataframe tbody tr th {\n",
       "        vertical-align: top;\n",
       "    }\n",
       "\n",
       "    .dataframe thead th {\n",
       "        text-align: right;\n",
       "    }\n",
       "</style>\n",
       "<table border=\"1\" class=\"dataframe\">\n",
       "  <thead>\n",
       "    <tr style=\"text-align: right;\">\n",
       "      <th></th>\n",
       "      <th>predicted 0</th>\n",
       "      <th>predicted 1</th>\n",
       "    </tr>\n",
       "  </thead>\n",
       "  <tbody>\n",
       "    <tr>\n",
       "      <th>actual 0</th>\n",
       "      <td>3</td>\n",
       "      <td>3</td>\n",
       "    </tr>\n",
       "    <tr>\n",
       "      <th>actual 1</th>\n",
       "      <td>0</td>\n",
       "      <td>6</td>\n",
       "    </tr>\n",
       "  </tbody>\n",
       "</table>\n",
       "</div>"
      ],
      "text/plain": [
       "          predicted 0  predicted 1\n",
       "actual 0            3            3\n",
       "actual 1            0            6"
      ]
     },
     "execution_count": 299,
     "metadata": {},
     "output_type": "execute_result"
    }
   ],
   "source": [
    "pd.DataFrame(confusion_matrix(y_test, y_pred_rf), columns=['predicted 0','predicted 1'],index=['actual 0','actual 1'])"
   ]
  },
  {
   "cell_type": "markdown",
   "metadata": {},
   "source": [
    "### 6. Visualize graphs"
   ]
  },
  {
   "cell_type": "code",
   "execution_count": 184,
   "metadata": {},
   "outputs": [],
   "source": [
    "export_graphviz(tree,'tree.dot',feature_names=X.columns,class_names=['classical','metal'],rounded=True,filled=True)"
   ]
  },
  {
   "cell_type": "code",
   "execution_count": 180,
   "metadata": {},
   "outputs": [],
   "source": [
    "visualize_tree(tree,X.columns)"
   ]
  },
  {
   "cell_type": "code",
   "execution_count": 181,
   "metadata": {},
   "outputs": [
    {
     "data": {
      "text/plain": [
       "Index(['age', 'Female', 'Male', 'I live by myself or with housemates.',\n",
       "       'I live with my family.', 'DC', 'Maryland', 'Virginia', 'Home cooking',\n",
       "       'Mexican', 'Steak', 'Sushi', 'Vegetarian',\n",
       "       'I play team sports / run races.', 'Keep fit through jogging or gym.',\n",
       "       'Keep fit through yoga and jogging.',\n",
       "       'Netflix is my most strenuous exercise.'],\n",
       "      dtype='object')"
      ]
     },
     "execution_count": 181,
     "metadata": {},
     "output_type": "execute_result"
    }
   ],
   "source": []
  }
 ],
 "metadata": {
  "kernelspec": {
   "display_name": "core_env",
   "language": "python",
   "name": "core_env"
  },
  "language_info": {
   "codemirror_mode": {
    "name": "ipython",
    "version": 3
   },
   "file_extension": ".py",
   "mimetype": "text/x-python",
   "name": "python",
   "nbconvert_exporter": "python",
   "pygments_lexer": "ipython3",
   "version": "3.5.6"
  }
 },
 "nbformat": 4,
 "nbformat_minor": 2
}
